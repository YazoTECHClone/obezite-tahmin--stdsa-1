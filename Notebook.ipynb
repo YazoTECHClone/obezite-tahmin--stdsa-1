{
 "cells": [
  {
   "metadata": {
    "collapsed": true,
    "ExecuteTime": {
     "end_time": "2025-04-20T13:54:59.701232Z",
     "start_time": "2025-04-20T13:54:59.693980Z"
    }
   },
   "cell_type": "code",
   "source": [
    "from copyreg import pickle\n",
    "\n",
    "import numpy as np\n",
    "from datetime import datetime\n",
    "import pandas as pd\n",
    "import matplotlib.pyplot as plt\n",
    "import seaborn as sns\n",
    "from sklearn.model_selection import train_test_split\n",
    "from sklearn.preprocessing import LabelEncoder,StandardScaler\n",
    "from sklearn.metrics import accuracy_score, classification_report, confusion_matrix, ConfusionMatrixDisplay\n",
    "from sklearn.svm import SVC\n",
    "from sklearn.neighbors import KNeighborsClassifier\n",
    "from sklearn.ensemble import RandomForestClassifier\n",
    "from sklearn.linear_model import LogisticRegression\n",
    "import xgboost as xgb\n",
    "from xgboost import XGBClassifier"
   ],
   "id": "initial_id",
   "outputs": [],
   "execution_count": 98
  },
  {
   "metadata": {},
   "cell_type": "markdown",
   "source": "# **Data Editing**",
   "id": "3c658f137e3a6f68"
  },
  {
   "metadata": {
    "ExecuteTime": {
     "end_time": "2025-04-20T13:54:59.730378Z",
     "start_time": "2025-04-20T13:54:59.715755Z"
    }
   },
   "cell_type": "code",
   "source": [
    "df = pd.read_csv(\"Obesity_DataSet.csv\")\n",
    "df.head()"
   ],
   "id": "3b27ab42e453234b",
   "outputs": [
    {
     "data": {
      "text/plain": [
       "   Gender  Age  Height  Weight family_history_with_overweight FAVC  FCVC  NCP  \\\n",
       "0  Female   21    1.62    64.0                            yes   no   2.0  3.0   \n",
       "1  Female   21    1.52    56.0                            yes   no   3.0  3.0   \n",
       "2    Male   23    1.80    77.0                            yes   no   2.0  3.0   \n",
       "3    Male   27    1.80    87.0                             no   no   3.0  3.0   \n",
       "4    Male   22    1.78    89.8                             no   no   2.0  1.0   \n",
       "\n",
       "        CAEC SMOKE  CH2O  SCC  FAF  TUE        CALC                 MTRANS  \\\n",
       "0  Sometimes    no   2.0   no  0.0  1.0          no  Public_Transportation   \n",
       "1  Sometimes   yes   3.0  yes  3.0  0.0   Sometimes  Public_Transportation   \n",
       "2  Sometimes    no   2.0   no  2.0  1.0  Frequently  Public_Transportation   \n",
       "3  Sometimes    no   2.0   no  2.0  0.0  Frequently                Walking   \n",
       "4  Sometimes    no   2.0   no  0.0  0.0   Sometimes  Public_Transportation   \n",
       "\n",
       "            NObeyesdad  \n",
       "0        Normal_Weight  \n",
       "1        Normal_Weight  \n",
       "2        Normal_Weight  \n",
       "3   Overweight_Level_I  \n",
       "4  Overweight_Level_II  "
      ],
      "text/html": [
       "<div>\n",
       "<style scoped>\n",
       "    .dataframe tbody tr th:only-of-type {\n",
       "        vertical-align: middle;\n",
       "    }\n",
       "\n",
       "    .dataframe tbody tr th {\n",
       "        vertical-align: top;\n",
       "    }\n",
       "\n",
       "    .dataframe thead th {\n",
       "        text-align: right;\n",
       "    }\n",
       "</style>\n",
       "<table border=\"1\" class=\"dataframe\">\n",
       "  <thead>\n",
       "    <tr style=\"text-align: right;\">\n",
       "      <th></th>\n",
       "      <th>Gender</th>\n",
       "      <th>Age</th>\n",
       "      <th>Height</th>\n",
       "      <th>Weight</th>\n",
       "      <th>family_history_with_overweight</th>\n",
       "      <th>FAVC</th>\n",
       "      <th>FCVC</th>\n",
       "      <th>NCP</th>\n",
       "      <th>CAEC</th>\n",
       "      <th>SMOKE</th>\n",
       "      <th>CH2O</th>\n",
       "      <th>SCC</th>\n",
       "      <th>FAF</th>\n",
       "      <th>TUE</th>\n",
       "      <th>CALC</th>\n",
       "      <th>MTRANS</th>\n",
       "      <th>NObeyesdad</th>\n",
       "    </tr>\n",
       "  </thead>\n",
       "  <tbody>\n",
       "    <tr>\n",
       "      <th>0</th>\n",
       "      <td>Female</td>\n",
       "      <td>21</td>\n",
       "      <td>1.62</td>\n",
       "      <td>64.0</td>\n",
       "      <td>yes</td>\n",
       "      <td>no</td>\n",
       "      <td>2.0</td>\n",
       "      <td>3.0</td>\n",
       "      <td>Sometimes</td>\n",
       "      <td>no</td>\n",
       "      <td>2.0</td>\n",
       "      <td>no</td>\n",
       "      <td>0.0</td>\n",
       "      <td>1.0</td>\n",
       "      <td>no</td>\n",
       "      <td>Public_Transportation</td>\n",
       "      <td>Normal_Weight</td>\n",
       "    </tr>\n",
       "    <tr>\n",
       "      <th>1</th>\n",
       "      <td>Female</td>\n",
       "      <td>21</td>\n",
       "      <td>1.52</td>\n",
       "      <td>56.0</td>\n",
       "      <td>yes</td>\n",
       "      <td>no</td>\n",
       "      <td>3.0</td>\n",
       "      <td>3.0</td>\n",
       "      <td>Sometimes</td>\n",
       "      <td>yes</td>\n",
       "      <td>3.0</td>\n",
       "      <td>yes</td>\n",
       "      <td>3.0</td>\n",
       "      <td>0.0</td>\n",
       "      <td>Sometimes</td>\n",
       "      <td>Public_Transportation</td>\n",
       "      <td>Normal_Weight</td>\n",
       "    </tr>\n",
       "    <tr>\n",
       "      <th>2</th>\n",
       "      <td>Male</td>\n",
       "      <td>23</td>\n",
       "      <td>1.80</td>\n",
       "      <td>77.0</td>\n",
       "      <td>yes</td>\n",
       "      <td>no</td>\n",
       "      <td>2.0</td>\n",
       "      <td>3.0</td>\n",
       "      <td>Sometimes</td>\n",
       "      <td>no</td>\n",
       "      <td>2.0</td>\n",
       "      <td>no</td>\n",
       "      <td>2.0</td>\n",
       "      <td>1.0</td>\n",
       "      <td>Frequently</td>\n",
       "      <td>Public_Transportation</td>\n",
       "      <td>Normal_Weight</td>\n",
       "    </tr>\n",
       "    <tr>\n",
       "      <th>3</th>\n",
       "      <td>Male</td>\n",
       "      <td>27</td>\n",
       "      <td>1.80</td>\n",
       "      <td>87.0</td>\n",
       "      <td>no</td>\n",
       "      <td>no</td>\n",
       "      <td>3.0</td>\n",
       "      <td>3.0</td>\n",
       "      <td>Sometimes</td>\n",
       "      <td>no</td>\n",
       "      <td>2.0</td>\n",
       "      <td>no</td>\n",
       "      <td>2.0</td>\n",
       "      <td>0.0</td>\n",
       "      <td>Frequently</td>\n",
       "      <td>Walking</td>\n",
       "      <td>Overweight_Level_I</td>\n",
       "    </tr>\n",
       "    <tr>\n",
       "      <th>4</th>\n",
       "      <td>Male</td>\n",
       "      <td>22</td>\n",
       "      <td>1.78</td>\n",
       "      <td>89.8</td>\n",
       "      <td>no</td>\n",
       "      <td>no</td>\n",
       "      <td>2.0</td>\n",
       "      <td>1.0</td>\n",
       "      <td>Sometimes</td>\n",
       "      <td>no</td>\n",
       "      <td>2.0</td>\n",
       "      <td>no</td>\n",
       "      <td>0.0</td>\n",
       "      <td>0.0</td>\n",
       "      <td>Sometimes</td>\n",
       "      <td>Public_Transportation</td>\n",
       "      <td>Overweight_Level_II</td>\n",
       "    </tr>\n",
       "  </tbody>\n",
       "</table>\n",
       "</div>"
      ]
     },
     "execution_count": 99,
     "metadata": {},
     "output_type": "execute_result"
    }
   ],
   "execution_count": 99
  },
  {
   "metadata": {
    "ExecuteTime": {
     "end_time": "2025-04-20T13:54:59.773075Z",
     "start_time": "2025-04-20T13:54:59.769119Z"
    }
   },
   "cell_type": "code",
   "source": "df.NObeyesdad.value_counts()",
   "id": "808646dc19df6e05",
   "outputs": [
    {
     "data": {
      "text/plain": [
       "NObeyesdad\n",
       "Obesity_Type_I         351\n",
       "Obesity_Type_III       324\n",
       "Obesity_Type_II        297\n",
       "Overweight_Level_I     290\n",
       "Overweight_Level_II    290\n",
       "Normal_Weight          287\n",
       "Insufficient_Weight    272\n",
       "Name: count, dtype: int64"
      ]
     },
     "execution_count": 100,
     "metadata": {},
     "output_type": "execute_result"
    }
   ],
   "execution_count": 100
  },
  {
   "metadata": {
    "ExecuteTime": {
     "end_time": "2025-04-20T13:54:59.823664Z",
     "start_time": "2025-04-20T13:54:59.819141Z"
    }
   },
   "cell_type": "code",
   "source": "df.shape",
   "id": "b73058d6c6838ed7",
   "outputs": [
    {
     "data": {
      "text/plain": [
       "(2111, 17)"
      ]
     },
     "execution_count": 101,
     "metadata": {},
     "output_type": "execute_result"
    }
   ],
   "execution_count": 101
  },
  {
   "metadata": {
    "ExecuteTime": {
     "end_time": "2025-04-20T13:54:59.905770Z",
     "start_time": "2025-04-20T13:54:59.901337Z"
    }
   },
   "cell_type": "code",
   "source": "(df.isna().sum())",
   "id": "154577531230d425",
   "outputs": [
    {
     "data": {
      "text/plain": [
       "Gender                            0\n",
       "Age                               0\n",
       "Height                            0\n",
       "Weight                            0\n",
       "family_history_with_overweight    0\n",
       "FAVC                              0\n",
       "FCVC                              0\n",
       "NCP                               0\n",
       "CAEC                              0\n",
       "SMOKE                             0\n",
       "CH2O                              0\n",
       "SCC                               0\n",
       "FAF                               0\n",
       "TUE                               0\n",
       "CALC                              0\n",
       "MTRANS                            0\n",
       "NObeyesdad                        0\n",
       "dtype: int64"
      ]
     },
     "execution_count": 102,
     "metadata": {},
     "output_type": "execute_result"
    }
   ],
   "execution_count": 102
  },
  {
   "metadata": {
    "ExecuteTime": {
     "end_time": "2025-04-20T13:54:59.984672Z",
     "start_time": "2025-04-20T13:54:59.978946Z"
    }
   },
   "cell_type": "code",
   "source": "df.duplicated().sum()",
   "id": "c84fca0ffac37589",
   "outputs": [
    {
     "data": {
      "text/plain": [
       "np.int64(24)"
      ]
     },
     "execution_count": 103,
     "metadata": {},
     "output_type": "execute_result"
    }
   ],
   "execution_count": 103
  },
  {
   "metadata": {
    "ExecuteTime": {
     "end_time": "2025-04-20T13:55:00.037518Z",
     "start_time": "2025-04-20T13:55:00.033009Z"
    }
   },
   "cell_type": "code",
   "source": "df.drop_duplicates(inplace=True)",
   "id": "1c7fc6d4f9d267c8",
   "outputs": [],
   "execution_count": 104
  },
  {
   "metadata": {
    "ExecuteTime": {
     "end_time": "2025-04-20T13:55:00.098244Z",
     "start_time": "2025-04-20T13:55:00.093958Z"
    }
   },
   "cell_type": "code",
   "source": "df.dtypes",
   "id": "3b158ff65a009b90",
   "outputs": [
    {
     "data": {
      "text/plain": [
       "Gender                             object\n",
       "Age                                 int64\n",
       "Height                            float64\n",
       "Weight                            float64\n",
       "family_history_with_overweight     object\n",
       "FAVC                               object\n",
       "FCVC                              float64\n",
       "NCP                               float64\n",
       "CAEC                               object\n",
       "SMOKE                              object\n",
       "CH2O                              float64\n",
       "SCC                                object\n",
       "FAF                               float64\n",
       "TUE                               float64\n",
       "CALC                               object\n",
       "MTRANS                             object\n",
       "NObeyesdad                         object\n",
       "dtype: object"
      ]
     },
     "execution_count": 105,
     "metadata": {},
     "output_type": "execute_result"
    }
   ],
   "execution_count": 105
  },
  {
   "metadata": {
    "ExecuteTime": {
     "end_time": "2025-04-20T13:55:00.130147Z",
     "start_time": "2025-04-20T13:55:00.127230Z"
    }
   },
   "cell_type": "code",
   "source": "correlation = df.corr(numeric_only=True)",
   "id": "d108c1da483da795",
   "outputs": [],
   "execution_count": 106
  },
  {
   "metadata": {
    "ExecuteTime": {
     "end_time": "2025-04-20T13:55:00.283548Z",
     "start_time": "2025-04-20T13:55:00.278068Z"
    }
   },
   "cell_type": "code",
   "source": "df[[\"Age\", \"Height\", \"Weight\"]].corr()\n",
   "id": "32d98ee947217791",
   "outputs": [
    {
     "data": {
      "text/plain": [
       "             Age    Height    Weight\n",
       "Age     1.000000 -0.031551  0.199063\n",
       "Height -0.031551  1.000000  0.456591\n",
       "Weight  0.199063  0.456591  1.000000"
      ],
      "text/html": [
       "<div>\n",
       "<style scoped>\n",
       "    .dataframe tbody tr th:only-of-type {\n",
       "        vertical-align: middle;\n",
       "    }\n",
       "\n",
       "    .dataframe tbody tr th {\n",
       "        vertical-align: top;\n",
       "    }\n",
       "\n",
       "    .dataframe thead th {\n",
       "        text-align: right;\n",
       "    }\n",
       "</style>\n",
       "<table border=\"1\" class=\"dataframe\">\n",
       "  <thead>\n",
       "    <tr style=\"text-align: right;\">\n",
       "      <th></th>\n",
       "      <th>Age</th>\n",
       "      <th>Height</th>\n",
       "      <th>Weight</th>\n",
       "    </tr>\n",
       "  </thead>\n",
       "  <tbody>\n",
       "    <tr>\n",
       "      <th>Age</th>\n",
       "      <td>1.000000</td>\n",
       "      <td>-0.031551</td>\n",
       "      <td>0.199063</td>\n",
       "    </tr>\n",
       "    <tr>\n",
       "      <th>Height</th>\n",
       "      <td>-0.031551</td>\n",
       "      <td>1.000000</td>\n",
       "      <td>0.456591</td>\n",
       "    </tr>\n",
       "    <tr>\n",
       "      <th>Weight</th>\n",
       "      <td>0.199063</td>\n",
       "      <td>0.456591</td>\n",
       "      <td>1.000000</td>\n",
       "    </tr>\n",
       "  </tbody>\n",
       "</table>\n",
       "</div>"
      ]
     },
     "execution_count": 107,
     "metadata": {},
     "output_type": "execute_result"
    }
   ],
   "execution_count": 107
  },
  {
   "metadata": {
    "ExecuteTime": {
     "end_time": "2025-04-20T13:55:00.436764Z",
     "start_time": "2025-04-20T13:55:00.311300Z"
    }
   },
   "cell_type": "code",
   "source": [
    "# Veriler arasindaki korelasyonu bir grafik ile gostermek\n",
    "\n",
    "plt.figure(figsize=(10,6))\n",
    "sns.heatmap(correlation, annot=True)\n",
    "plt.show()"
   ],
   "id": "c922938f2363ed2d",
   "outputs": [
    {
     "data": {
      "text/plain": [
       "<Figure size 1000x600 with 2 Axes>"
      ],
      "image/png": "[encoded data removed]"
     },
     "metadata": {},
     "output_type": "display_data"
    }
   ],
   "execution_count": 108
  },
  {
   "metadata": {
    "ExecuteTime": {
     "end_time": "2025-04-20T13:55:00.563976Z",
     "start_time": "2025-04-20T13:55:00.457312Z"
    }
   },
   "cell_type": "code",
   "source": [
    "# Scatter plot kullanarak cinsiyete gore kilolarin gorunumu\n",
    "\n",
    "\n",
    "plt.figure(figsize=(10,6))\n",
    "sns.scatterplot(x=\"Weight\", y=\"Height\", hue=\"Gender\", data=df)\n",
    "plt.title(\"Cinsiyete Gore Boy ve Kilo Dagilimi\")\n",
    "plt.grid(True, alpha=0.2)\n",
    "plt.show()"
   ],
   "id": "693fb1ea118024e4",
   "outputs": [
    {
     "data": {
      "text/plain": [
       "<Figure size 1000x600 with 1 Axes>"
      ],
      "image/png": "[encoded data removed]"
     },
     "metadata": {},
     "output_type": "display_data"
    }
   ],
   "execution_count": 109
  },
  {
   "metadata": {},
   "cell_type": "markdown",
   "source": "# **Encoding**",
   "id": "b6f8e3283551a5d"
  },
  {
   "metadata": {
    "ExecuteTime": {
     "end_time": "2025-04-20T13:55:00.571916Z",
     "start_time": "2025-04-20T13:55:00.569485Z"
    }
   },
   "cell_type": "code",
   "source": "le = LabelEncoder()",
   "id": "8a519d5520b9833b",
   "outputs": [],
   "execution_count": 110
  },
  {
   "metadata": {
    "ExecuteTime": {
     "end_time": "2025-04-20T13:55:00.610930Z",
     "start_time": "2025-04-20T13:55:00.605021Z"
    }
   },
   "cell_type": "code",
   "source": [
    "for column in df.columns:\n",
    "    if df[column].dtype == object:\n",
    "        df[column] = le.fit_transform(df[column])"
   ],
   "id": "2d406356685b2c60",
   "outputs": [],
   "execution_count": 111
  },
  {
   "metadata": {
    "ExecuteTime": {
     "end_time": "2025-04-20T13:55:00.626966Z",
     "start_time": "2025-04-20T13:55:00.615935Z"
    }
   },
   "cell_type": "code",
   "source": "df",
   "id": "d22158bb04029702",
   "outputs": [
    {
     "data": {
      "text/plain": [
       "      Gender  Age  Height  Weight  family_history_with_overweight  FAVC  FCVC  \\\n",
       "0          0   21    1.62   64.00                               1     0   2.0   \n",
       "1          0   21    1.52   56.00                               1     0   3.0   \n",
       "2          1   23    1.80   77.00                               1     0   2.0   \n",
       "3          1   27    1.80   87.00                               0     0   3.0   \n",
       "4          1   22    1.78   89.80                               0     0   2.0   \n",
       "...      ...  ...     ...     ...                             ...   ...   ...   \n",
       "2106       0   21    1.71  131.41                               1     1   3.0   \n",
       "2107       0   22    1.75  133.74                               1     1   3.0   \n",
       "2108       0   23    1.75  133.69                               1     1   3.0   \n",
       "2109       0   24    1.74  133.35                               1     1   3.0   \n",
       "2110       0   24    1.74  133.47                               1     1   3.0   \n",
       "\n",
       "      NCP  CAEC  SMOKE  CH2O  SCC   FAF    TUE  CALC  MTRANS  NObeyesdad  \n",
       "0     3.0     2      0  2.00    0  0.00  1.000     3       3           1  \n",
       "1     3.0     2      1  3.00    1  3.00  0.000     2       3           1  \n",
       "2     3.0     2      0  2.00    0  2.00  1.000     1       3           1  \n",
       "3     3.0     2      0  2.00    0  2.00  0.000     1       4           5  \n",
       "4     1.0     2      0  2.00    0  0.00  0.000     2       3           6  \n",
       "...   ...   ...    ...   ...  ...   ...    ...   ...     ...         ...  \n",
       "2106  3.0     2      0  1.73    0  1.68  0.906     2       3           4  \n",
       "2107  3.0     2      0  2.01    0  1.34  0.599     2       3           4  \n",
       "2108  3.0     2      0  2.05    0  1.41  0.646     2       3           4  \n",
       "2109  3.0     2      0  2.85    0  1.14  0.586     2       3           4  \n",
       "2110  3.0     2      0  2.86    0  1.03  0.714     2       3           4  \n",
       "\n",
       "[2087 rows x 17 columns]"
      ],
      "text/html": [
       "<div>\n",
       "<style scoped>\n",
       "    .dataframe tbody tr th:only-of-type {\n",
       "        vertical-align: middle;\n",
       "    }\n",
       "\n",
       "    .dataframe tbody tr th {\n",
       "        vertical-align: top;\n",
       "    }\n",
       "\n",
       "    .dataframe thead th {\n",
       "        text-align: right;\n",
       "    }\n",
       "</style>\n",
       "<table border=\"1\" class=\"dataframe\">\n",
       "  <thead>\n",
       "    <tr style=\"text-align: right;\">\n",
       "      <th></th>\n",
       "      <th>Gender</th>\n",
       "      <th>Age</th>\n",
       "      <th>Height</th>\n",
       "      <th>Weight</th>\n",
       "      <th>family_history_with_overweight</th>\n",
       "      <th>FAVC</th>\n",
       "      <th>FCVC</th>\n",
       "      <th>NCP</th>\n",
       "      <th>CAEC</th>\n",
       "      <th>SMOKE</th>\n",
       "      <th>CH2O</th>\n",
       "      <th>SCC</th>\n",
       "      <th>FAF</th>\n",
       "      <th>TUE</th>\n",
       "      <th>CALC</th>\n",
       "      <th>MTRANS</th>\n",
       "      <th>NObeyesdad</th>\n",
       "    </tr>\n",
       "  </thead>\n",
       "  <tbody>\n",
       "    <tr>\n",
       "      <th>0</th>\n",
       "      <td>0</td>\n",
       "      <td>21</td>\n",
       "      <td>1.62</td>\n",
       "      <td>64.00</td>\n",
       "      <td>1</td>\n",
       "      <td>0</td>\n",
       "      <td>2.0</td>\n",
       "      <td>3.0</td>\n",
       "      <td>2</td>\n",
       "      <td>0</td>\n",
       "      <td>2.00</td>\n",
       "      <td>0</td>\n",
       "      <td>0.00</td>\n",
       "      <td>1.000</td>\n",
       "      <td>3</td>\n",
       "      <td>3</td>\n",
       "      <td>1</td>\n",
       "    </tr>\n",
       "    <tr>\n",
       "      <th>1</th>\n",
       "      <td>0</td>\n",
       "      <td>21</td>\n",
       "      <td>1.52</td>\n",
       "      <td>56.00</td>\n",
       "      <td>1</td>\n",
       "      <td>0</td>\n",
       "      <td>3.0</td>\n",
       "      <td>3.0</td>\n",
       "      <td>2</td>\n",
       "      <td>1</td>\n",
       "      <td>3.00</td>\n",
       "      <td>1</td>\n",
       "      <td>3.00</td>\n",
       "      <td>0.000</td>\n",
       "      <td>2</td>\n",
       "      <td>3</td>\n",
       "      <td>1</td>\n",
       "    </tr>\n",
       "    <tr>\n",
       "      <th>2</th>\n",
       "      <td>1</td>\n",
       "      <td>23</td>\n",
       "      <td>1.80</td>\n",
       "      <td>77.00</td>\n",
       "      <td>1</td>\n",
       "      <td>0</td>\n",
       "      <td>2.0</td>\n",
       "      <td>3.0</td>\n",
       "      <td>2</td>\n",
       "      <td>0</td>\n",
       "      <td>2.00</td>\n",
       "      <td>0</td>\n",
       "      <td>2.00</td>\n",
       "      <td>1.000</td>\n",
       "      <td>1</td>\n",
       "      <td>3</td>\n",
       "      <td>1</td>\n",
       "    </tr>\n",
       "    <tr>\n",
       "      <th>3</th>\n",
       "      <td>1</td>\n",
       "      <td>27</td>\n",
       "      <td>1.80</td>\n",
       "      <td>87.00</td>\n",
       "      <td>0</td>\n",
       "      <td>0</td>\n",
       "      <td>3.0</td>\n",
       "      <td>3.0</td>\n",
       "      <td>2</td>\n",
       "      <td>0</td>\n",
       "      <td>2.00</td>\n",
       "      <td>0</td>\n",
       "      <td>2.00</td>\n",
       "      <td>0.000</td>\n",
       "      <td>1</td>\n",
       "      <td>4</td>\n",
       "      <td>5</td>\n",
       "    </tr>\n",
       "    <tr>\n",
       "      <th>4</th>\n",
       "      <td>1</td>\n",
       "      <td>22</td>\n",
       "      <td>1.78</td>\n",
       "      <td>89.80</td>\n",
       "      <td>0</td>\n",
       "      <td>0</td>\n",
       "      <td>2.0</td>\n",
       "      <td>1.0</td>\n",
       "      <td>2</td>\n",
       "      <td>0</td>\n",
       "      <td>2.00</td>\n",
       "      <td>0</td>\n",
       "      <td>0.00</td>\n",
       "      <td>0.000</td>\n",
       "      <td>2</td>\n",
       "      <td>3</td>\n",
       "      <td>6</td>\n",
       "    </tr>\n",
       "    <tr>\n",
       "      <th>...</th>\n",
       "      <td>...</td>\n",
       "      <td>...</td>\n",
       "      <td>...</td>\n",
       "      <td>...</td>\n",
       "      <td>...</td>\n",
       "      <td>...</td>\n",
       "      <td>...</td>\n",
       "      <td>...</td>\n",
       "      <td>...</td>\n",
       "      <td>...</td>\n",
       "      <td>...</td>\n",
       "      <td>...</td>\n",
       "      <td>...</td>\n",
       "      <td>...</td>\n",
       "      <td>...</td>\n",
       "      <td>...</td>\n",
       "      <td>...</td>\n",
       "    </tr>\n",
       "    <tr>\n",
       "      <th>2106</th>\n",
       "      <td>0</td>\n",
       "      <td>21</td>\n",
       "      <td>1.71</td>\n",
       "      <td>131.41</td>\n",
       "      <td>1</td>\n",
       "      <td>1</td>\n",
       "      <td>3.0</td>\n",
       "      <td>3.0</td>\n",
       "      <td>2</td>\n",
       "      <td>0</td>\n",
       "      <td>1.73</td>\n",
       "      <td>0</td>\n",
       "      <td>1.68</td>\n",
       "      <td>0.906</td>\n",
       "      <td>2</td>\n",
       "      <td>3</td>\n",
       "      <td>4</td>\n",
       "    </tr>\n",
       "    <tr>\n",
       "      <th>2107</th>\n",
       "      <td>0</td>\n",
       "      <td>22</td>\n",
       "      <td>1.75</td>\n",
       "      <td>133.74</td>\n",
       "      <td>1</td>\n",
       "      <td>1</td>\n",
       "      <td>3.0</td>\n",
       "      <td>3.0</td>\n",
       "      <td>2</td>\n",
       "      <td>0</td>\n",
       "      <td>2.01</td>\n",
       "      <td>0</td>\n",
       "      <td>1.34</td>\n",
       "      <td>0.599</td>\n",
       "      <td>2</td>\n",
       "      <td>3</td>\n",
       "      <td>4</td>\n",
       "    </tr>\n",
       "    <tr>\n",
       "      <th>2108</th>\n",
       "      <td>0</td>\n",
       "      <td>23</td>\n",
       "      <td>1.75</td>\n",
       "      <td>133.69</td>\n",
       "      <td>1</td>\n",
       "      <td>1</td>\n",
       "      <td>3.0</td>\n",
       "      <td>3.0</td>\n",
       "      <td>2</td>\n",
       "      <td>0</td>\n",
       "      <td>2.05</td>\n",
       "      <td>0</td>\n",
       "      <td>1.41</td>\n",
       "      <td>0.646</td>\n",
       "      <td>2</td>\n",
       "      <td>3</td>\n",
       "      <td>4</td>\n",
       "    </tr>\n",
       "    <tr>\n",
       "      <th>2109</th>\n",
       "      <td>0</td>\n",
       "      <td>24</td>\n",
       "      <td>1.74</td>\n",
       "      <td>133.35</td>\n",
       "      <td>1</td>\n",
       "      <td>1</td>\n",
       "      <td>3.0</td>\n",
       "      <td>3.0</td>\n",
       "      <td>2</td>\n",
       "      <td>0</td>\n",
       "      <td>2.85</td>\n",
       "      <td>0</td>\n",
       "      <td>1.14</td>\n",
       "      <td>0.586</td>\n",
       "      <td>2</td>\n",
       "      <td>3</td>\n",
       "      <td>4</td>\n",
       "    </tr>\n",
       "    <tr>\n",
       "      <th>2110</th>\n",
       "      <td>0</td>\n",
       "      <td>24</td>\n",
       "      <td>1.74</td>\n",
       "      <td>133.47</td>\n",
       "      <td>1</td>\n",
       "      <td>1</td>\n",
       "      <td>3.0</td>\n",
       "      <td>3.0</td>\n",
       "      <td>2</td>\n",
       "      <td>0</td>\n",
       "      <td>2.86</td>\n",
       "      <td>0</td>\n",
       "      <td>1.03</td>\n",
       "      <td>0.714</td>\n",
       "      <td>2</td>\n",
       "      <td>3</td>\n",
       "      <td>4</td>\n",
       "    </tr>\n",
       "  </tbody>\n",
       "</table>\n",
       "<p>2087 rows × 17 columns</p>\n",
       "</div>"
      ]
     },
     "execution_count": 112,
     "metadata": {},
     "output_type": "execute_result"
    }
   ],
   "execution_count": 112
  },
  {
   "metadata": {
    "ExecuteTime": {
     "end_time": "2025-04-20T13:55:00.671916Z",
     "start_time": "2025-04-20T13:55:00.664261Z"
    }
   },
   "cell_type": "code",
   "source": "df[[\"CALC\",\"MTRANS\",\"NObeyesdad\", \"Weight\"]].corr() #burada kategorik veriler icin korelasyon olusturuldu\n",
   "id": "1c9c33df09bcc3dd",
   "outputs": [
    {
     "data": {
      "text/plain": [
       "                CALC    MTRANS  NObeyesdad    Weight\n",
       "CALC        1.000000 -0.009828   -0.132821 -0.211350\n",
       "MTRANS     -0.009828  1.000000   -0.047784  0.009837\n",
       "NObeyesdad -0.132821 -0.047784    1.000000  0.388800\n",
       "Weight     -0.211350  0.009837    0.388800  1.000000"
      ],
      "text/html": [
       "<div>\n",
       "<style scoped>\n",
       "    .dataframe tbody tr th:only-of-type {\n",
       "        vertical-align: middle;\n",
       "    }\n",
       "\n",
       "    .dataframe tbody tr th {\n",
       "        vertical-align: top;\n",
       "    }\n",
       "\n",
       "    .dataframe thead th {\n",
       "        text-align: right;\n",
       "    }\n",
       "</style>\n",
       "<table border=\"1\" class=\"dataframe\">\n",
       "  <thead>\n",
       "    <tr style=\"text-align: right;\">\n",
       "      <th></th>\n",
       "      <th>CALC</th>\n",
       "      <th>MTRANS</th>\n",
       "      <th>NObeyesdad</th>\n",
       "      <th>Weight</th>\n",
       "    </tr>\n",
       "  </thead>\n",
       "  <tbody>\n",
       "    <tr>\n",
       "      <th>CALC</th>\n",
       "      <td>1.000000</td>\n",
       "      <td>-0.009828</td>\n",
       "      <td>-0.132821</td>\n",
       "      <td>-0.211350</td>\n",
       "    </tr>\n",
       "    <tr>\n",
       "      <th>MTRANS</th>\n",
       "      <td>-0.009828</td>\n",
       "      <td>1.000000</td>\n",
       "      <td>-0.047784</td>\n",
       "      <td>0.009837</td>\n",
       "    </tr>\n",
       "    <tr>\n",
       "      <th>NObeyesdad</th>\n",
       "      <td>-0.132821</td>\n",
       "      <td>-0.047784</td>\n",
       "      <td>1.000000</td>\n",
       "      <td>0.388800</td>\n",
       "    </tr>\n",
       "    <tr>\n",
       "      <th>Weight</th>\n",
       "      <td>-0.211350</td>\n",
       "      <td>0.009837</td>\n",
       "      <td>0.388800</td>\n",
       "      <td>1.000000</td>\n",
       "    </tr>\n",
       "  </tbody>\n",
       "</table>\n",
       "</div>"
      ]
     },
     "execution_count": 113,
     "metadata": {},
     "output_type": "execute_result"
    }
   ],
   "execution_count": 113
  },
  {
   "metadata": {
    "ExecuteTime": {
     "end_time": "2025-04-20T13:55:00.719966Z",
     "start_time": "2025-04-20T13:55:00.715557Z"
    }
   },
   "cell_type": "code",
   "source": "df.dtypes",
   "id": "e40b0337848b0f88",
   "outputs": [
    {
     "data": {
      "text/plain": [
       "Gender                              int64\n",
       "Age                                 int64\n",
       "Height                            float64\n",
       "Weight                            float64\n",
       "family_history_with_overweight      int64\n",
       "FAVC                                int64\n",
       "FCVC                              float64\n",
       "NCP                               float64\n",
       "CAEC                                int64\n",
       "SMOKE                               int64\n",
       "CH2O                              float64\n",
       "SCC                                 int64\n",
       "FAF                               float64\n",
       "TUE                               float64\n",
       "CALC                                int64\n",
       "MTRANS                              int64\n",
       "NObeyesdad                          int64\n",
       "dtype: object"
      ]
     },
     "execution_count": 114,
     "metadata": {},
     "output_type": "execute_result"
    }
   ],
   "execution_count": 114
  },
  {
   "metadata": {},
   "cell_type": "markdown",
   "source": "### Saving Edited Data",
   "id": "4133b6995f99adff"
  },
  {
   "metadata": {
    "ExecuteTime": {
     "end_time": "2025-04-20T13:55:00.861798Z",
     "start_time": "2025-04-20T13:55:00.850924Z"
    }
   },
   "cell_type": "code",
   "source": [
    "# if you use SQL\n",
    "df.to_csv(\"Obesity_DataSet_Edited.csv\", index=False, header=False)"
   ],
   "id": "df701193c385324a",
   "outputs": [],
   "execution_count": 115
  },
  {
   "metadata": {
    "ExecuteTime": {
     "end_time": "2025-04-20T13:55:01.010735Z",
     "start_time": "2025-04-20T13:55:00.985617Z"
    }
   },
   "cell_type": "code",
   "source": [
    "# if you not\n",
    "df.to_csv(\"Obesity_DataSet_Edited.csv\", index=False)\n",
    "df = pd.read_csv(\"Obesity_DataSet_Edited.csv\")"
   ],
   "id": "e253f8bc7781ddc5",
   "outputs": [],
   "execution_count": 116
  },
  {
   "metadata": {},
   "cell_type": "markdown",
   "source": "# **Features and Target Features**",
   "id": "599a77576becf381"
  },
  {
   "metadata": {
    "ExecuteTime": {
     "end_time": "2025-04-20T13:55:01.068957Z",
     "start_time": "2025-04-20T13:55:01.064869Z"
    }
   },
   "cell_type": "code",
   "source": [
    "X = df.drop(\"NObeyesdad\", axis=1) # Bagimsiz Degisken (Features)\n",
    "y = df[\"NObeyesdad\"] # Bagimli Degisken (Target Feature)"
   ],
   "id": "723bb4d6725dcc8",
   "outputs": [],
   "execution_count": 117
  },
  {
   "metadata": {},
   "cell_type": "markdown",
   "source": "# **Train Test Split**",
   "id": "7d16ed2caabc2f5e"
  },
  {
   "metadata": {
    "ExecuteTime": {
     "end_time": "2025-04-20T13:55:01.145550Z",
     "start_time": "2025-04-20T13:55:01.139757Z"
    }
   },
   "cell_type": "code",
   "source": "X_train, X_test, y_train, y_test = train_test_split(X,y, test_size=0.20, random_state=42)\n",
   "id": "1cf771d9d89eec08",
   "outputs": [],
   "execution_count": 118
  },
  {
   "metadata": {},
   "cell_type": "markdown",
   "source": "# **Scaling**",
   "id": "82335086cdf54ad4"
  },
  {
   "metadata": {
    "ExecuteTime": {
     "end_time": "2025-04-20T13:55:01.168917Z",
     "start_time": "2025-04-20T13:55:01.162582Z"
    }
   },
   "cell_type": "code",
   "source": [
    "scaler = StandardScaler()\n",
    "\n",
    "scaled_X_train = scaler.fit_transform(X_train)\n",
    "scaled_X_test = scaler.transform(X_test)"
   ],
   "id": "27769df268355182",
   "outputs": [],
   "execution_count": 119
  },
  {
   "metadata": {
    "ExecuteTime": {
     "end_time": "2025-04-20T13:55:01.190932Z",
     "start_time": "2025-04-20T13:55:01.187085Z"
    }
   },
   "cell_type": "code",
   "source": [
    "from joblib import dump\n",
    "\n",
    "dump(scaler, 'scaler.pkl')"
   ],
   "id": "302eeadb2fd8b8b4",
   "outputs": [
    {
     "data": {
      "text/plain": [
       "['scaler.pkl']"
      ]
     },
     "execution_count": 120,
     "metadata": {},
     "output_type": "execute_result"
    }
   ],
   "execution_count": 120
  },
  {
   "metadata": {},
   "cell_type": "markdown",
   "source": "# **SQL (Needs to Upload Data to SQL Server )**",
   "id": "d0f341ae513c4f42"
  },
  {
   "metadata": {
    "ExecuteTime": {
     "end_time": "2025-04-20T13:55:01.262476Z",
     "start_time": "2025-04-20T13:55:01.208465Z"
    }
   },
   "cell_type": "code",
   "source": [
    "import psycopg2\n",
    "import pandas as pd\n",
    "\n",
    "# 🔐 Bağlantı bilgilerini kendine göre değiştir\n",
    "conn = psycopg2.connect(\n",
    "    host=\"localhost\",          # ya da uzak sunucu IP'si\n",
    "    database=\"Obesity Dataset\",\n",
    "    user=\"postgres\",\n",
    "    password=\"pasword_here\",\n",
    "    port=5432                  # default port\n",
    ")\n",
    "\n",
    "# 🧠 SQL sorgunu yaz\n",
    "sql_sorgu = \"SELECT * FROM public.obesity\"\n",
    "\n",
    "# 📥 DataFrame'e al\n",
    "df = pd.read_sql_query(sql_sorgu, conn)\n",
    "\n",
    "# ✅ Bağlantıyı kapat\n",
    "conn.close()\n",
    "\n",
    "# 🔍 DataFrame'i incele\n",
    "print(df.head())\n"
   ],
   "id": "c40703d5210fd846",
   "outputs": [
    {
     "name": "stdout",
     "output_type": "stream",
     "text": [
      "   Gender  Age  Height  Weight  family_history_with_overweight  FAVC  FCVC  \\\n",
      "0       0   21    1.62    64.0                               1     0   2.0   \n",
      "1       0   21    1.52    56.0                               1     0   3.0   \n",
      "2       1   23    1.80    77.0                               1     0   2.0   \n",
      "3       1   27    1.80    87.0                               0     0   3.0   \n",
      "4       1   22    1.78    89.8                               0     0   2.0   \n",
      "\n",
      "   NCP  CAEC  SMOKE  CH2O  SCC  FAF  TUE  CALC  MTRANS  NObeyesdad  \n",
      "0  3.0     2      0   2.0    0  0.0  1.0     3       3           1  \n",
      "1  3.0     2      1   3.0    1  3.0  0.0     2       3           1  \n",
      "2  3.0     2      0   2.0    0  2.0  1.0     1       3           1  \n",
      "3  3.0     2      0   2.0    0  2.0  0.0     1       4           5  \n",
      "4  1.0     2      0   2.0    0  0.0  0.0     2       3           6  \n"
     ]
    },
    {
     "name": "stderr",
     "output_type": "stream",
     "text": [
      "C:\\Users\\alpar\\AppData\\Local\\Temp\\ipykernel_13652\\656292968.py:17: UserWarning: pandas only supports SQLAlchemy connectable (engine/connection) or database string URI or sqlite3 DBAPI2 connection. Other DBAPI2 objects are not tested. Please consider using SQLAlchemy.\n",
      "  df = pd.read_sql_query(sql_sorgu, conn)\n"
     ]
    }
   ],
   "execution_count": 121
  },
  {
   "metadata": {
    "ExecuteTime": {
     "end_time": "2025-04-20T13:55:01.289272Z",
     "start_time": "2025-04-20T13:55:01.278011Z"
    }
   },
   "cell_type": "code",
   "source": "df",
   "id": "da3b03316033e047",
   "outputs": [
    {
     "data": {
      "text/plain": [
       "      Gender  Age  Height  Weight  family_history_with_overweight  FAVC  FCVC  \\\n",
       "0          0   21    1.62   64.00                               1     0   2.0   \n",
       "1          0   21    1.52   56.00                               1     0   3.0   \n",
       "2          1   23    1.80   77.00                               1     0   2.0   \n",
       "3          1   27    1.80   87.00                               0     0   3.0   \n",
       "4          1   22    1.78   89.80                               0     0   2.0   \n",
       "...      ...  ...     ...     ...                             ...   ...   ...   \n",
       "2082       0   21    1.71  131.41                               1     1   3.0   \n",
       "2083       0   22    1.75  133.74                               1     1   3.0   \n",
       "2084       0   23    1.75  133.69                               1     1   3.0   \n",
       "2085       0   24    1.74  133.35                               1     1   3.0   \n",
       "2086       0   24    1.74  133.47                               1     1   3.0   \n",
       "\n",
       "      NCP  CAEC  SMOKE  CH2O  SCC   FAF   TUE  CALC  MTRANS  NObeyesdad  \n",
       "0     3.0     2      0  2.00    0  0.00  1.00     3       3           1  \n",
       "1     3.0     2      1  3.00    1  3.00  0.00     2       3           1  \n",
       "2     3.0     2      0  2.00    0  2.00  1.00     1       3           1  \n",
       "3     3.0     2      0  2.00    0  2.00  0.00     1       4           5  \n",
       "4     1.0     2      0  2.00    0  0.00  0.00     2       3           6  \n",
       "...   ...   ...    ...   ...  ...   ...   ...   ...     ...         ...  \n",
       "2082  3.0     2      0  1.73    0  1.68  0.91     2       3           4  \n",
       "2083  3.0     2      0  2.01    0  1.34  0.60     2       3           4  \n",
       "2084  3.0     2      0  2.05    0  1.41  0.65     2       3           4  \n",
       "2085  3.0     2      0  2.85    0  1.14  0.59     2       3           4  \n",
       "2086  3.0     2      0  2.86    0  1.03  0.71     2       3           4  \n",
       "\n",
       "[2087 rows x 17 columns]"
      ],
      "text/html": [
       "<div>\n",
       "<style scoped>\n",
       "    .dataframe tbody tr th:only-of-type {\n",
       "        vertical-align: middle;\n",
       "    }\n",
       "\n",
       "    .dataframe tbody tr th {\n",
       "        vertical-align: top;\n",
       "    }\n",
       "\n",
       "    .dataframe thead th {\n",
       "        text-align: right;\n",
       "    }\n",
       "</style>\n",
       "<table border=\"1\" class=\"dataframe\">\n",
       "  <thead>\n",
       "    <tr style=\"text-align: right;\">\n",
       "      <th></th>\n",
       "      <th>Gender</th>\n",
       "      <th>Age</th>\n",
       "      <th>Height</th>\n",
       "      <th>Weight</th>\n",
       "      <th>family_history_with_overweight</th>\n",
       "      <th>FAVC</th>\n",
       "      <th>FCVC</th>\n",
       "      <th>NCP</th>\n",
       "      <th>CAEC</th>\n",
       "      <th>SMOKE</th>\n",
       "      <th>CH2O</th>\n",
       "      <th>SCC</th>\n",
       "      <th>FAF</th>\n",
       "      <th>TUE</th>\n",
       "      <th>CALC</th>\n",
       "      <th>MTRANS</th>\n",
       "      <th>NObeyesdad</th>\n",
       "    </tr>\n",
       "  </thead>\n",
       "  <tbody>\n",
       "    <tr>\n",
       "      <th>0</th>\n",
       "      <td>0</td>\n",
       "      <td>21</td>\n",
       "      <td>1.62</td>\n",
       "      <td>64.00</td>\n",
       "      <td>1</td>\n",
       "      <td>0</td>\n",
       "      <td>2.0</td>\n",
       "      <td>3.0</td>\n",
       "      <td>2</td>\n",
       "      <td>0</td>\n",
       "      <td>2.00</td>\n",
       "      <td>0</td>\n",
       "      <td>0.00</td>\n",
       "      <td>1.00</td>\n",
       "      <td>3</td>\n",
       "      <td>3</td>\n",
       "      <td>1</td>\n",
       "    </tr>\n",
       "    <tr>\n",
       "      <th>1</th>\n",
       "      <td>0</td>\n",
       "      <td>21</td>\n",
       "      <td>1.52</td>\n",
       "      <td>56.00</td>\n",
       "      <td>1</td>\n",
       "      <td>0</td>\n",
       "      <td>3.0</td>\n",
       "      <td>3.0</td>\n",
       "      <td>2</td>\n",
       "      <td>1</td>\n",
       "      <td>3.00</td>\n",
       "      <td>1</td>\n",
       "      <td>3.00</td>\n",
       "      <td>0.00</td>\n",
       "      <td>2</td>\n",
       "      <td>3</td>\n",
       "      <td>1</td>\n",
       "    </tr>\n",
       "    <tr>\n",
       "      <th>2</th>\n",
       "      <td>1</td>\n",
       "      <td>23</td>\n",
       "      <td>1.80</td>\n",
       "      <td>77.00</td>\n",
       "      <td>1</td>\n",
       "      <td>0</td>\n",
       "      <td>2.0</td>\n",
       "      <td>3.0</td>\n",
       "      <td>2</td>\n",
       "      <td>0</td>\n",
       "      <td>2.00</td>\n",
       "      <td>0</td>\n",
       "      <td>2.00</td>\n",
       "      <td>1.00</td>\n",
       "      <td>1</td>\n",
       "      <td>3</td>\n",
       "      <td>1</td>\n",
       "    </tr>\n",
       "    <tr>\n",
       "      <th>3</th>\n",
       "      <td>1</td>\n",
       "      <td>27</td>\n",
       "      <td>1.80</td>\n",
       "      <td>87.00</td>\n",
       "      <td>0</td>\n",
       "      <td>0</td>\n",
       "      <td>3.0</td>\n",
       "      <td>3.0</td>\n",
       "      <td>2</td>\n",
       "      <td>0</td>\n",
       "      <td>2.00</td>\n",
       "      <td>0</td>\n",
       "      <td>2.00</td>\n",
       "      <td>0.00</td>\n",
       "      <td>1</td>\n",
       "      <td>4</td>\n",
       "      <td>5</td>\n",
       "    </tr>\n",
       "    <tr>\n",
       "      <th>4</th>\n",
       "      <td>1</td>\n",
       "      <td>22</td>\n",
       "      <td>1.78</td>\n",
       "      <td>89.80</td>\n",
       "      <td>0</td>\n",
       "      <td>0</td>\n",
       "      <td>2.0</td>\n",
       "      <td>1.0</td>\n",
       "      <td>2</td>\n",
       "      <td>0</td>\n",
       "      <td>2.00</td>\n",
       "      <td>0</td>\n",
       "      <td>0.00</td>\n",
       "      <td>0.00</td>\n",
       "      <td>2</td>\n",
       "      <td>3</td>\n",
       "      <td>6</td>\n",
       "    </tr>\n",
       "    <tr>\n",
       "      <th>...</th>\n",
       "      <td>...</td>\n",
       "      <td>...</td>\n",
       "      <td>...</td>\n",
       "      <td>...</td>\n",
       "      <td>...</td>\n",
       "      <td>...</td>\n",
       "      <td>...</td>\n",
       "      <td>...</td>\n",
       "      <td>...</td>\n",
       "      <td>...</td>\n",
       "      <td>...</td>\n",
       "      <td>...</td>\n",
       "      <td>...</td>\n",
       "      <td>...</td>\n",
       "      <td>...</td>\n",
       "      <td>...</td>\n",
       "      <td>...</td>\n",
       "    </tr>\n",
       "    <tr>\n",
       "      <th>2082</th>\n",
       "      <td>0</td>\n",
       "      <td>21</td>\n",
       "      <td>1.71</td>\n",
       "      <td>131.41</td>\n",
       "      <td>1</td>\n",
       "      <td>1</td>\n",
       "      <td>3.0</td>\n",
       "      <td>3.0</td>\n",
       "      <td>2</td>\n",
       "      <td>0</td>\n",
       "      <td>1.73</td>\n",
       "      <td>0</td>\n",
       "      <td>1.68</td>\n",
       "      <td>0.91</td>\n",
       "      <td>2</td>\n",
       "      <td>3</td>\n",
       "      <td>4</td>\n",
       "    </tr>\n",
       "    <tr>\n",
       "      <th>2083</th>\n",
       "      <td>0</td>\n",
       "      <td>22</td>\n",
       "      <td>1.75</td>\n",
       "      <td>133.74</td>\n",
       "      <td>1</td>\n",
       "      <td>1</td>\n",
       "      <td>3.0</td>\n",
       "      <td>3.0</td>\n",
       "      <td>2</td>\n",
       "      <td>0</td>\n",
       "      <td>2.01</td>\n",
       "      <td>0</td>\n",
       "      <td>1.34</td>\n",
       "      <td>0.60</td>\n",
       "      <td>2</td>\n",
       "      <td>3</td>\n",
       "      <td>4</td>\n",
       "    </tr>\n",
       "    <tr>\n",
       "      <th>2084</th>\n",
       "      <td>0</td>\n",
       "      <td>23</td>\n",
       "      <td>1.75</td>\n",
       "      <td>133.69</td>\n",
       "      <td>1</td>\n",
       "      <td>1</td>\n",
       "      <td>3.0</td>\n",
       "      <td>3.0</td>\n",
       "      <td>2</td>\n",
       "      <td>0</td>\n",
       "      <td>2.05</td>\n",
       "      <td>0</td>\n",
       "      <td>1.41</td>\n",
       "      <td>0.65</td>\n",
       "      <td>2</td>\n",
       "      <td>3</td>\n",
       "      <td>4</td>\n",
       "    </tr>\n",
       "    <tr>\n",
       "      <th>2085</th>\n",
       "      <td>0</td>\n",
       "      <td>24</td>\n",
       "      <td>1.74</td>\n",
       "      <td>133.35</td>\n",
       "      <td>1</td>\n",
       "      <td>1</td>\n",
       "      <td>3.0</td>\n",
       "      <td>3.0</td>\n",
       "      <td>2</td>\n",
       "      <td>0</td>\n",
       "      <td>2.85</td>\n",
       "      <td>0</td>\n",
       "      <td>1.14</td>\n",
       "      <td>0.59</td>\n",
       "      <td>2</td>\n",
       "      <td>3</td>\n",
       "      <td>4</td>\n",
       "    </tr>\n",
       "    <tr>\n",
       "      <th>2086</th>\n",
       "      <td>0</td>\n",
       "      <td>24</td>\n",
       "      <td>1.74</td>\n",
       "      <td>133.47</td>\n",
       "      <td>1</td>\n",
       "      <td>1</td>\n",
       "      <td>3.0</td>\n",
       "      <td>3.0</td>\n",
       "      <td>2</td>\n",
       "      <td>0</td>\n",
       "      <td>2.86</td>\n",
       "      <td>0</td>\n",
       "      <td>1.03</td>\n",
       "      <td>0.71</td>\n",
       "      <td>2</td>\n",
       "      <td>3</td>\n",
       "      <td>4</td>\n",
       "    </tr>\n",
       "  </tbody>\n",
       "</table>\n",
       "<p>2087 rows × 17 columns</p>\n",
       "</div>"
      ]
     },
     "execution_count": 122,
     "metadata": {},
     "output_type": "execute_result"
    }
   ],
   "execution_count": 122
  },
  {
   "metadata": {},
   "cell_type": "markdown",
   "source": "## It is Working!",
   "id": "e32dbd88e9c16683"
  },
  {
   "metadata": {},
   "cell_type": "markdown",
   "source": "# **Classification Algorithms**",
   "id": "eb96ca4c7a625689"
  },
  {
   "metadata": {},
   "cell_type": "markdown",
   "source": "## Support Vector Classification",
   "id": "25cce13864e11b9"
  },
  {
   "metadata": {},
   "cell_type": "markdown",
   "source": "### Support Vector Classification (No Scale)",
   "id": "2821e245ddb437ac"
  },
  {
   "metadata": {
    "ExecuteTime": {
     "end_time": "2025-04-20T13:55:01.419898Z",
     "start_time": "2025-04-20T13:55:01.328151Z"
    }
   },
   "cell_type": "code",
   "source": [
    "svm_classifier_non_scaled = SVC(kernel=\"linear\", C=1.0, random_state=42)\n",
    "\n",
    "svm_classifier_non_scaled.fit(X_train, y_train)\n",
    "\n",
    "y_prediction = svm_classifier_non_scaled.predict(X_test)\n",
    "\n",
    "accuracy = accuracy_score(y_test, y_prediction)\n",
    "\n",
    "print(f\"Test Verisinin Dogruluk Skoru: {accuracy * 100:.2f}%\")\n",
    "\n",
    "print(\"\\nClassification Report:\")\n",
    "print(classification_report(y_test, y_prediction))"
   ],
   "id": "17f6215d0a9dd789",
   "outputs": [
    {
     "name": "stdout",
     "output_type": "stream",
     "text": [
      "Test Verisinin Dogruluk Skoru: 89.23%\n",
      "\n",
      "Classification Report:\n",
      "              precision    recall  f1-score   support\n",
      "\n",
      "           0       0.81      1.00      0.89        59\n",
      "           1       0.95      0.61      0.74        61\n",
      "           2       0.88      0.96      0.92        70\n",
      "           3       0.98      1.00      0.99        64\n",
      "           4       1.00      1.00      1.00        60\n",
      "           5       0.78      0.89      0.83        55\n",
      "           6       0.88      0.76      0.81        49\n",
      "\n",
      "    accuracy                           0.89       418\n",
      "   macro avg       0.90      0.89      0.88       418\n",
      "weighted avg       0.90      0.89      0.89       418\n",
      "\n"
     ]
    }
   ],
   "execution_count": 123
  },
  {
   "metadata": {
    "ExecuteTime": {
     "end_time": "2025-04-20T13:55:01.530240Z",
     "start_time": "2025-04-20T13:55:01.437949Z"
    }
   },
   "cell_type": "code",
   "source": [
    "# Confusion Matrix Grafigi\n",
    "\n",
    "ConfusionMatrixDisplay.from_estimator(svm_classifier_non_scaled, X_test, y_test)\n",
    "plt.show()"
   ],
   "id": "ee701849189ba183",
   "outputs": [
    {
     "data": {
      "text/plain": [
       "<Figure size 640x480 with 2 Axes>"
      ],
      "image/png": "[encoded data removed]"
     },
     "metadata": {},
     "output_type": "display_data"
    }
   ],
   "execution_count": 124
  },
  {
   "metadata": {},
   "cell_type": "markdown",
   "source": "### Support Vector Classification (With Scale)",
   "id": "4a66eb088a922844"
  },
  {
   "metadata": {
    "ExecuteTime": {
     "end_time": "2025-04-20T13:55:01.577180Z",
     "start_time": "2025-04-20T13:55:01.533745Z"
    }
   },
   "cell_type": "code",
   "source": [
    "svm_classifier = SVC(kernel=\"linear\", C=1.0, random_state=42)\n",
    "\n",
    "svm_classifier.fit(scaled_X_train, y_train)\n",
    "\n",
    "y_prediction = svm_classifier.predict(scaled_X_test)\n",
    "\n",
    "accuracy = accuracy_score(y_test, y_prediction)\n",
    "\n",
    "print(f\"Test Verisinin Dogruluk Skoru: {accuracy * 100:.2f}%\")\n",
    "\n",
    "print(\"\\nClassification Report:\")\n",
    "print(classification_report(y_test, y_prediction))"
   ],
   "id": "87e4a0e9608d5652",
   "outputs": [
    {
     "name": "stdout",
     "output_type": "stream",
     "text": [
      "Test Verisinin Dogruluk Skoru: 94.50%\n",
      "\n",
      "Classification Report:\n",
      "              precision    recall  f1-score   support\n",
      "\n",
      "           0       0.88      0.98      0.93        59\n",
      "           1       0.96      0.82      0.88        61\n",
      "           2       1.00      0.94      0.97        70\n",
      "           3       0.96      1.00      0.98        64\n",
      "           4       1.00      1.00      1.00        60\n",
      "           5       0.92      0.89      0.91        55\n",
      "           6       0.89      0.98      0.93        49\n",
      "\n",
      "    accuracy                           0.94       418\n",
      "   macro avg       0.94      0.95      0.94       418\n",
      "weighted avg       0.95      0.94      0.94       418\n",
      "\n"
     ]
    }
   ],
   "execution_count": 125
  },
  {
   "metadata": {
    "ExecuteTime": {
     "end_time": "2025-04-20T13:55:01.684384Z",
     "start_time": "2025-04-20T13:55:01.594625Z"
    }
   },
   "cell_type": "code",
   "source": [
    "# Confusion Matrix Grafigi\n",
    "\n",
    "ConfusionMatrixDisplay.from_estimator(svm_classifier, scaled_X_test, y_test)\n",
    "plt.show()"
   ],
   "id": "ee44d91ba62bd86",
   "outputs": [
    {
     "data": {
      "text/plain": [
       "<Figure size 640x480 with 2 Axes>"
      ],
      "image/png": "[encoded data removed]"
     },
     "metadata": {},
     "output_type": "display_data"
    }
   ],
   "execution_count": 126
  },
  {
   "metadata": {},
   "cell_type": "markdown",
   "source": "## KNN",
   "id": "80edd03e89f07060"
  },
  {
   "metadata": {},
   "cell_type": "markdown",
   "source": "### KNN (No Scale)",
   "id": "8bfd611bc1366ee9"
  },
  {
   "metadata": {
    "ExecuteTime": {
     "end_time": "2025-04-20T13:55:01.741024Z",
     "start_time": "2025-04-20T13:55:01.701942Z"
    }
   },
   "cell_type": "code",
   "source": [
    "knn = KNeighborsClassifier(n_neighbors=3)\n",
    "knn.fit(X_train, y_train)\n",
    "\n",
    "knn_prediction = knn.predict(X_test)\n",
    "\n",
    "accuracy = accuracy_score(y_test, knn_prediction)\n",
    "print(f\"Test Verisinin Dogruluk Skoru: {accuracy * 100:.2f}%\")\n",
    "\n",
    "print(\"\\nClassification Report:\")\n",
    "print(classification_report(y_test, knn_prediction))"
   ],
   "id": "76b07c0d506bf9e",
   "outputs": [
    {
     "name": "stdout",
     "output_type": "stream",
     "text": [
      "Test Verisinin Dogruluk Skoru: 88.52%\n",
      "\n",
      "Classification Report:\n",
      "              precision    recall  f1-score   support\n",
      "\n",
      "           0       0.80      1.00      0.89        59\n",
      "           1       0.88      0.48      0.62        61\n",
      "           2       0.93      0.96      0.94        70\n",
      "           3       1.00      1.00      1.00        64\n",
      "           4       0.98      1.00      0.99        60\n",
      "           5       0.75      0.87      0.81        55\n",
      "           6       0.86      0.88      0.87        49\n",
      "\n",
      "    accuracy                           0.89       418\n",
      "   macro avg       0.89      0.88      0.87       418\n",
      "weighted avg       0.89      0.89      0.88       418\n",
      "\n"
     ]
    }
   ],
   "execution_count": 127
  },
  {
   "metadata": {
    "ExecuteTime": {
     "end_time": "2025-04-20T13:55:01.906891Z",
     "start_time": "2025-04-20T13:55:01.765149Z"
    }
   },
   "cell_type": "code",
   "source": [
    "# Confusion Matrix Grafigi\n",
    "\n",
    "ConfusionMatrixDisplay.from_estimator(knn, X_test, y_test)\n",
    "plt.show()"
   ],
   "id": "daff7110ee2b277a",
   "outputs": [
    {
     "data": {
      "text/plain": [
       "<Figure size 640x480 with 2 Axes>"
      ],
      "image/png": "[encoded data removed]"
     },
     "metadata": {},
     "output_type": "display_data"
    }
   ],
   "execution_count": 128
  },
  {
   "metadata": {},
   "cell_type": "markdown",
   "source": "### KNN (With Scale)",
   "id": "759c6823ac0ad82"
  },
  {
   "metadata": {
    "ExecuteTime": {
     "end_time": "2025-04-20T13:55:01.957604Z",
     "start_time": "2025-04-20T13:55:01.924527Z"
    }
   },
   "cell_type": "code",
   "source": [
    "knn = KNeighborsClassifier(n_neighbors=3)\n",
    "knn.fit(scaled_X_train, y_train)\n",
    "\n",
    "knn_prediction = knn.predict(scaled_X_test)\n",
    "\n",
    "accuracy = accuracy_score(y_test, knn_prediction)\n",
    "print(f\"Test Verisinin Dogruluk Skoru: {accuracy * 100:.2f}%\")\n",
    "\n",
    "print(\"\\nClassification Report:\")\n",
    "print(classification_report(y_test, knn_prediction))"
   ],
   "id": "55a2e0b9b2a54bdd",
   "outputs": [
    {
     "name": "stdout",
     "output_type": "stream",
     "text": [
      "Test Verisinin Dogruluk Skoru: 82.06%\n",
      "\n",
      "Classification Report:\n",
      "              precision    recall  f1-score   support\n",
      "\n",
      "           0       0.75      0.90      0.82        59\n",
      "           1       0.67      0.43      0.52        61\n",
      "           2       0.76      0.93      0.83        70\n",
      "           3       0.95      0.97      0.96        64\n",
      "           4       1.00      1.00      1.00        60\n",
      "           5       0.88      0.67      0.76        55\n",
      "           6       0.73      0.82      0.77        49\n",
      "\n",
      "    accuracy                           0.82       418\n",
      "   macro avg       0.82      0.82      0.81       418\n",
      "weighted avg       0.82      0.82      0.81       418\n",
      "\n"
     ]
    }
   ],
   "execution_count": 129
  },
  {
   "metadata": {
    "ExecuteTime": {
     "end_time": "2025-04-20T13:55:02.103379Z",
     "start_time": "2025-04-20T13:55:01.981964Z"
    }
   },
   "cell_type": "code",
   "source": [
    "# Confusion Matrix Grafigi\n",
    "\n",
    "ConfusionMatrixDisplay.from_estimator(knn, scaled_X_test, y_test)\n",
    "plt.show()"
   ],
   "id": "54b4c64e38a11c30",
   "outputs": [
    {
     "data": {
      "text/plain": [
       "<Figure size 640x480 with 2 Axes>"
      ],
      "image/png": "[encoded data removed]"
     },
     "metadata": {},
     "output_type": "display_data"
    }
   ],
   "execution_count": 130
  },
  {
   "metadata": {},
   "cell_type": "markdown",
   "source": "## Random Forest Classifier",
   "id": "a23434dea3019560"
  },
  {
   "metadata": {},
   "cell_type": "markdown",
   "source": "### Random Forest (No Scale)",
   "id": "16fd18bcffa3d3b4"
  },
  {
   "metadata": {
    "ExecuteTime": {
     "end_time": "2025-04-20T13:55:02.323639Z",
     "start_time": "2025-04-20T13:55:02.121929Z"
    }
   },
   "cell_type": "code",
   "source": [
    "random_forest = RandomForestClassifier(n_estimators=100, criterion=\"gini\", random_state=42)\n",
    "\n",
    "random_forest.fit(X_train, y_train)\n",
    "\n",
    "random_forest_prediction = random_forest.predict(X_test)\n",
    "\n",
    "accuracy = accuracy_score(y_test, random_forest_prediction)\n",
    "print(f\"Test Verisinin Dogruluk Skoru: {accuracy * 100:.2f}%\")\n",
    "\n",
    "print(\"\\nClassification Report:\")\n",
    "print(classification_report(y_test, random_forest_prediction))\n"
   ],
   "id": "f5d33661e40df082",
   "outputs": [
    {
     "name": "stdout",
     "output_type": "stream",
     "text": [
      "Test Verisinin Dogruluk Skoru: 96.17%\n",
      "\n",
      "Classification Report:\n",
      "              precision    recall  f1-score   support\n",
      "\n",
      "           0       0.98      0.92      0.95        59\n",
      "           1       0.86      0.97      0.91        61\n",
      "           2       1.00      0.96      0.98        70\n",
      "           3       1.00      1.00      1.00        64\n",
      "           4       1.00      1.00      1.00        60\n",
      "           5       0.98      0.91      0.94        55\n",
      "           6       0.92      0.98      0.95        49\n",
      "\n",
      "    accuracy                           0.96       418\n",
      "   macro avg       0.96      0.96      0.96       418\n",
      "weighted avg       0.96      0.96      0.96       418\n",
      "\n"
     ]
    }
   ],
   "execution_count": 131
  },
  {
   "metadata": {
    "ExecuteTime": {
     "end_time": "2025-04-20T13:55:02.439719Z",
     "start_time": "2025-04-20T13:55:02.341454Z"
    }
   },
   "cell_type": "code",
   "source": [
    "# Confusion Matrix Grafigi\n",
    "\n",
    "ConfusionMatrixDisplay.from_estimator(random_forest, X_test, y_test)\n",
    "plt.show()"
   ],
   "id": "21aa557de0cfda36",
   "outputs": [
    {
     "data": {
      "text/plain": [
       "<Figure size 640x480 with 2 Axes>"
      ],
      "image/png": "[encoded data removed]"
     },
     "metadata": {},
     "output_type": "display_data"
    }
   ],
   "execution_count": 132
  },
  {
   "metadata": {},
   "cell_type": "markdown",
   "source": "### Random Forest (With Scale)",
   "id": "af1a5ec3eb30cd1a"
  },
  {
   "metadata": {
    "ExecuteTime": {
     "end_time": "2025-04-20T13:55:02.645054Z",
     "start_time": "2025-04-20T13:55:02.458258Z"
    }
   },
   "cell_type": "code",
   "source": [
    "random_forest = RandomForestClassifier(n_estimators=100, criterion=\"gini\", random_state=42)\n",
    "\n",
    "random_forest.fit(scaled_X_train, y_train)\n",
    "\n",
    "random_forest_prediction = random_forest.predict(scaled_X_test)\n",
    "\n",
    "accuracy = accuracy_score(y_test, random_forest_prediction)\n",
    "print(f\"Test Verisinin Dogruluk Skoru: {accuracy * 100:.2f}%\")\n",
    "\n",
    "print(\"\\nClassification Report:\")\n",
    "print(classification_report(y_test, random_forest_prediction))\n"
   ],
   "id": "206c9d7b32e357fc",
   "outputs": [
    {
     "name": "stdout",
     "output_type": "stream",
     "text": [
      "Test Verisinin Dogruluk Skoru: 96.41%\n",
      "\n",
      "Classification Report:\n",
      "              precision    recall  f1-score   support\n",
      "\n",
      "           0       0.98      0.92      0.95        59\n",
      "           1       0.86      0.97      0.91        61\n",
      "           2       1.00      0.97      0.99        70\n",
      "           3       1.00      1.00      1.00        64\n",
      "           4       1.00      1.00      1.00        60\n",
      "           5       0.98      0.91      0.94        55\n",
      "           6       0.94      0.98      0.96        49\n",
      "\n",
      "    accuracy                           0.96       418\n",
      "   macro avg       0.97      0.96      0.96       418\n",
      "weighted avg       0.97      0.96      0.96       418\n",
      "\n"
     ]
    }
   ],
   "execution_count": 133
  },
  {
   "metadata": {
    "ExecuteTime": {
     "end_time": "2025-04-20T13:55:02.751437Z",
     "start_time": "2025-04-20T13:55:02.662097Z"
    }
   },
   "cell_type": "code",
   "source": [
    "# Confusion Matrix Grafigi\n",
    "\n",
    "ConfusionMatrixDisplay.from_estimator(random_forest, scaled_X_test, y_test)\n",
    "plt.show()"
   ],
   "id": "59917b99057a1d3",
   "outputs": [
    {
     "data": {
      "text/plain": [
       "<Figure size 640x480 with 2 Axes>"
      ],
      "image/png": "[encoded data removed]"
     },
     "metadata": {},
     "output_type": "display_data"
    }
   ],
   "execution_count": 134
  },
  {
   "metadata": {},
   "cell_type": "markdown",
   "source": "## Logictic Regression",
   "id": "9b771d6898b19e61"
  },
  {
   "metadata": {
    "ExecuteTime": {
     "end_time": "2025-04-20T13:55:02.781154Z",
     "start_time": "2025-04-20T13:55:02.770631Z"
    }
   },
   "cell_type": "code",
   "source": [
    "logistic_regression = LogisticRegression(solver=\"liblinear\",NBSPmax_iter=200)\n",
    "\n",
    "logistic_regression.fit(X_train, y_train)\n",
    "\n",
    "logistic_regression_prediction = logistic_regression.predict(X_test)\n",
    "\n",
    "accuracy = accuracy_score(y_test, logistic_regression_prediction)\n",
    "print(f\"Test Verisinin Dogruluk Skoru: {accuracy * 100:.2f}%\")\n",
    "\n",
    "print(\"\\nClassification Report:\")\n",
    "print(classification_report(y_test, logistic_regression_prediction))\n"
   ],
   "id": "42757776112dee42",
   "outputs": [
    {
     "ename": "TypeError",
     "evalue": "LogisticRegression.__init__() got an unexpected keyword argument 'NBSPmax_iter'",
     "output_type": "error",
     "traceback": [
      "\u001B[1;31m---------------------------------------------------------------------------\u001B[0m",
      "\u001B[1;31mTypeError\u001B[0m                                 Traceback (most recent call last)",
      "Cell \u001B[1;32mIn[135], line 1\u001B[0m\n\u001B[1;32m----> 1\u001B[0m logistic_regression \u001B[38;5;241m=\u001B[39m \u001B[43mLogisticRegression\u001B[49m\u001B[43m(\u001B[49m\u001B[43msolver\u001B[49m\u001B[38;5;241;43m=\u001B[39;49m\u001B[38;5;124;43m\"\u001B[39;49m\u001B[38;5;124;43mliblinear\u001B[39;49m\u001B[38;5;124;43m\"\u001B[39;49m\u001B[43m,\u001B[49m\u001B[43mNBSPmax_iter\u001B[49m\u001B[38;5;241;43m=\u001B[39;49m\u001B[38;5;241;43m200\u001B[39;49m\u001B[43m)\u001B[49m\n\u001B[0;32m      3\u001B[0m logistic_regression\u001B[38;5;241m.\u001B[39mfit(X_train, y_train)\n\u001B[0;32m      5\u001B[0m logistic_regression_prediction \u001B[38;5;241m=\u001B[39m logistic_regression\u001B[38;5;241m.\u001B[39mpredict(X_test)\n",
      "\u001B[1;31mTypeError\u001B[0m: LogisticRegression.__init__() got an unexpected keyword argument 'NBSPmax_iter'"
     ]
    }
   ],
   "execution_count": 135
  },
  {
   "metadata": {
    "ExecuteTime": {
     "end_time": "2025-04-20T13:55:02.782659400Z",
     "start_time": "2025-03-28T13:46:57.784085Z"
    }
   },
   "cell_type": "code",
   "outputs": [
    {
     "data": {
      "text/plain": [
       "<Figure size 640x480 with 2 Axes>"
      ],
      "image/png": "[encoded data removed]"
     },
     "metadata": {},
     "output_type": "display_data"
    }
   ],
   "execution_count": 84,
   "source": [
    "# Confusion Matrix Grafigi\n",
    "\n",
    "ConfusionMatrixDisplay.from_estimator(logistic_regression, X_test, y_test)\n",
    "plt.show()"
   ],
   "id": "63faa8f01b09b880"
  },
  {
   "metadata": {},
   "cell_type": "markdown",
   "source": "## XGBoost (We will Use It)",
   "id": "e019ec41bef90dc"
  },
  {
   "metadata": {
    "ExecuteTime": {
     "end_time": "2025-04-20T14:02:04.296499Z",
     "start_time": "2025-04-20T14:02:03.884900Z"
    }
   },
   "cell_type": "code",
   "source": [
    "model = xgb.XGBClassifier(objective=\"multi:softmax\", num_class=len(y.unique()), random_state=42)\n",
    "\n",
    "model.fit(scaled_X_train, y_train)\n",
    "\n",
    "xgb_prediction = model.predict(scaled_X_test)\n",
    "\n",
    "accuracy = accuracy_score(y_test, xgb_prediction)\n",
    "print(f\"Test Verisinin Dogruluk Skoru: {accuracy * 100:.2f}%\")\n",
    "\n",
    "print(\"\\nClassification Report:\")\n",
    "print(classification_report(y_test, xgb_prediction))"
   ],
   "id": "b352fac0df6ca054",
   "outputs": [
    {
     "name": "stdout",
     "output_type": "stream",
     "text": [
      "Test Verisinin Dogruluk Skoru: 96.89%\n",
      "\n",
      "Classification Report:\n",
      "              precision    recall  f1-score   support\n",
      "\n",
      "           0       0.93      0.97      0.95        59\n",
      "           1       0.93      0.89      0.91        61\n",
      "           2       1.00      0.99      0.99        70\n",
      "           3       1.00      1.00      1.00        64\n",
      "           4       1.00      1.00      1.00        60\n",
      "           5       0.93      0.96      0.95        55\n",
      "           6       0.98      0.98      0.98        49\n",
      "\n",
      "    accuracy                           0.97       418\n",
      "   macro avg       0.97      0.97      0.97       418\n",
      "weighted avg       0.97      0.97      0.97       418\n",
      "\n"
     ]
    }
   ],
   "execution_count": 136
  },
  {
   "metadata": {
    "ExecuteTime": {
     "end_time": "2025-04-20T13:55:02.790169400Z",
     "start_time": "2025-04-12T15:01:42.191081Z"
    }
   },
   "cell_type": "code",
   "source": [
    "ConfusionMatrixDisplay.from_estimator(model, scaled_X_test, y_test)\n",
    "plt.show()"
   ],
   "id": "cd59ca2e13d23b8",
   "outputs": [
    {
     "data": {
      "text/plain": [
       "<Figure size 640x480 with 2 Axes>"
      ],
      "image/png": "[encoded data removed]"
     },
     "metadata": {},
     "output_type": "display_data"
    }
   ],
   "execution_count": 37
  },
  {
   "metadata": {
    "ExecuteTime": {
     "end_time": "2025-04-20T14:02:09.050988Z",
     "start_time": "2025-04-20T14:02:08.883925Z"
    }
   },
   "cell_type": "code",
   "source": [
    "# Özellik önemini görselleştirin\n",
    "fig, ax = plt.subplots(figsize=(10, 6))\n",
    "xgb.plot_importance(model,\n",
    "                    ax=ax,\n",
    "                    max_num_features=10,\n",
    "                    importance_type='gain',\n",
    "                    title='Özellik Önemi',\n",
    "                    xlabel='Önem Skoru',\n",
    "                    ylabel='Özellikler')\n",
    "\n",
    "# Mevcut y-ekseni etiketlerini al ve değiştir\n",
    "ax.set_yticklabels(X.columns[model.feature_importances_.argsort()[-10:]])\n",
    "plt.tight_layout()\n",
    "plt.savefig('xgboost_importance.svg')\n",
    "plt.show()"
   ],
   "id": "b96c89fad3f435af",
   "outputs": [
    {
     "data": {
      "text/plain": [
       "<Figure size 1000x600 with 1 Axes>"
      ],
      "image/png": "[encoded data removed]"
     },
     "metadata": {},
     "output_type": "display_data"
    }
   ],
   "execution_count": 137
  },
  {
   "metadata": {},
   "cell_type": "markdown",
   "source": "# **Saving Model as .pkl**",
   "id": "97154fe1e5738f4c"
  },
  {
   "metadata": {
    "ExecuteTime": {
     "end_time": "2025-04-20T14:02:12.727281Z",
     "start_time": "2025-04-20T14:02:12.706731Z"
    }
   },
   "cell_type": "code",
   "source": [
    "from joblib import dump, load\n",
    "\n",
    "\n",
    "dump(model, 'xgboost_model.pkl')"
   ],
   "id": "e6a463c7ef49971d",
   "outputs": [
    {
     "data": {
      "text/plain": [
       "['xgboost_model.pkl']"
      ]
     },
     "execution_count": 138,
     "metadata": {},
     "output_type": "execute_result"
    }
   ],
   "execution_count": 138
  },
  {
   "metadata": {
    "ExecuteTime": {
     "end_time": "2025-04-20T13:55:02.792669100Z",
     "start_time": "2025-03-28T15:21:43.369015Z"
    }
   },
   "cell_type": "code",
   "source": [
    "correlation = df.corr()\n",
    "correlation"
   ],
   "id": "ee6d025e5f7b2891",
   "outputs": [
    {
     "data": {
      "text/plain": [
       "                                Unnamed: 0    Gender       Age    Height  \\\n",
       "Unnamed: 0                        1.000000 -0.070027  0.180147  0.121360   \n",
       "Gender                           -0.070027  1.000000  0.050929  0.626411   \n",
       "Age                               0.180147  0.050929  1.000000 -0.031551   \n",
       "Height                            0.121360  0.626411 -0.031551  1.000000   \n",
       "Weight                            0.770995  0.163174  0.199063  0.456591   \n",
       "family_history_with_overweight    0.442563  0.113492  0.200149  0.231830   \n",
       "FAVC                              0.342720  0.061220  0.063383  0.180040   \n",
       "FCVC                              0.248400 -0.271495  0.014309 -0.040820   \n",
       "NCP                               0.057888  0.077817 -0.055821  0.227539   \n",
       "CAEC                              0.373870  0.074564  0.092512  0.057931   \n",
       "SMOKE                            -0.115050  0.045501  0.090627  0.054554   \n",
       "CH2O                              0.103626  0.095087 -0.044342  0.220572   \n",
       "SCC                              -0.212892 -0.102435 -0.117702 -0.136686   \n",
       "FAF                              -0.176982  0.189454 -0.148341  0.294235   \n",
       "TUE                              -0.072555  0.022377 -0.302599  0.041486   \n",
       "CALC                             -0.100234  0.010574 -0.046661 -0.135584   \n",
       "MTRANS                            0.030578 -0.139044 -0.600092 -0.068412   \n",
       "NObeyesdad                        0.304963  0.014699  0.237792  0.039395   \n",
       "\n",
       "                                  Weight  family_history_with_overweight  \\\n",
       "Unnamed: 0                      0.770995                        0.442563   \n",
       "Gender                          0.163174                        0.113492   \n",
       "Age                             0.199063                        0.200149   \n",
       "Height                          0.456591                        0.231830   \n",
       "Weight                          1.000000                        0.492968   \n",
       "family_history_with_overweight  0.492968                        1.000000   \n",
       "FAVC                            0.274657                        0.214329   \n",
       "FCVC                            0.216720                        0.033226   \n",
       "NCP                             0.092092                        0.028312   \n",
       "CAEC                            0.300269                        0.207738   \n",
       "SMOKE                           0.024370                        0.014885   \n",
       "CH2O                            0.203790                        0.168563   \n",
       "SCC                            -0.205408                       -0.193947   \n",
       "FAF                            -0.056408                       -0.062910   \n",
       "TUE                            -0.079361                        0.002311   \n",
       "CALC                           -0.211350                        0.028403   \n",
       "MTRANS                          0.009837                       -0.092730   \n",
       "NObeyesdad                      0.388800                        0.330391   \n",
       "\n",
       "                                    FAVC      FCVC       NCP      CAEC  \\\n",
       "Unnamed: 0                      0.342720  0.248400  0.057888  0.373870   \n",
       "Gender                          0.061220 -0.271495  0.077817  0.074564   \n",
       "Age                             0.063383  0.014309 -0.055821  0.092512   \n",
       "Height                          0.180040 -0.040820  0.227539  0.057931   \n",
       "Weight                          0.274657  0.216720  0.092092  0.300269   \n",
       "family_history_with_overweight  0.214329  0.033226  0.028312  0.207738   \n",
       "FAVC                            1.000000 -0.025363 -0.006366  0.147921   \n",
       "FCVC                           -0.025363  1.000000  0.034712 -0.038509   \n",
       "NCP                            -0.006366  0.034712  1.000000 -0.072304   \n",
       "CAEC                            0.147921 -0.038509 -0.072304  1.000000   \n",
       "SMOKE                          -0.050713  0.013774  0.005005 -0.054960   \n",
       "CH2O                            0.003008  0.081268  0.075176  0.114832   \n",
       "SCC                            -0.191277  0.071163 -0.020452 -0.109393   \n",
       "FAF                            -0.111124  0.021999  0.127831 -0.034762   \n",
       "TUE                             0.071498 -0.104213  0.015775 -0.036706   \n",
       "CALC                           -0.087661 -0.063152 -0.083026 -0.039502   \n",
       "MTRANS                         -0.069422  0.068970 -0.043659 -0.058158   \n",
       "NObeyesdad                      0.041023  0.025803 -0.088256  0.314510   \n",
       "\n",
       "                                   SMOKE      CH2O       SCC       FAF  \\\n",
       "Unnamed: 0                     -0.115050  0.103626 -0.212892 -0.176982   \n",
       "Gender                          0.045501  0.095087 -0.102435  0.189454   \n",
       "Age                             0.090627 -0.044342 -0.117702 -0.148341   \n",
       "Height                          0.054554  0.220572 -0.136686  0.294235   \n",
       "Weight                          0.024370  0.203790 -0.205408 -0.056408   \n",
       "family_history_with_overweight  0.014885  0.168563 -0.193947 -0.062910   \n",
       "FAVC                           -0.050713  0.003008 -0.191277 -0.111124   \n",
       "FCVC                            0.013774  0.081268  0.071163  0.021999   \n",
       "NCP                             0.005005  0.075176 -0.020452  0.127831   \n",
       "CAEC                           -0.054960  0.114832 -0.109393 -0.034762   \n",
       "SMOKE                           1.000000 -0.031650  0.047384  0.010810   \n",
       "CH2O                           -0.031650  1.000000  0.009328  0.165254   \n",
       "SCC                             0.047384  0.009328  1.000000  0.073820   \n",
       "FAF                             0.010810  0.165254  0.073820  1.000000   \n",
       "TUE                             0.016488  0.020662 -0.012873  0.058740   \n",
       "CALC                           -0.083181 -0.085459 -0.004175  0.086809   \n",
       "MTRANS                         -0.009995  0.040701  0.044381  0.008310   \n",
       "NObeyesdad                     -0.023341  0.092586 -0.050936 -0.135131   \n",
       "\n",
       "                                     TUE      CALC    MTRANS  NObeyesdad  \n",
       "Unnamed: 0                     -0.072555 -0.100234  0.030578    0.304963  \n",
       "Gender                          0.022377  0.010574 -0.139044    0.014699  \n",
       "Age                            -0.302599 -0.046661 -0.600092    0.237792  \n",
       "Height                          0.041486 -0.135584 -0.068412    0.039395  \n",
       "Weight                         -0.079361 -0.211350  0.009837    0.388800  \n",
       "family_history_with_overweight  0.002311  0.028403 -0.092730    0.330391  \n",
       "FAVC                            0.071498 -0.087661 -0.069422    0.041023  \n",
       "FCVC                           -0.104213 -0.063152  0.068970    0.025803  \n",
       "NCP                             0.015775 -0.083026 -0.043659   -0.088256  \n",
       "CAEC                           -0.036706 -0.039502 -0.058158    0.314510  \n",
       "SMOKE                           0.016488 -0.083181 -0.009995   -0.023341  \n",
       "CH2O                            0.020662 -0.085459  0.040701    0.092586  \n",
       "SCC                            -0.012873 -0.004175  0.044381   -0.050936  \n",
       "FAF                             0.058740  0.086809  0.008310   -0.135131  \n",
       "TUE                             1.000000  0.041832  0.181515   -0.064874  \n",
       "CALC                            0.041832  1.000000 -0.009828   -0.132821  \n",
       "MTRANS                          0.181515 -0.009828  1.000000   -0.047784  \n",
       "NObeyesdad                     -0.064874 -0.132821 -0.047784    1.000000  "
      ],
      "text/html": [
       "<div>\n",
       "<style scoped>\n",
       "    .dataframe tbody tr th:only-of-type {\n",
       "        vertical-align: middle;\n",
       "    }\n",
       "\n",
       "    .dataframe tbody tr th {\n",
       "        vertical-align: top;\n",
       "    }\n",
       "\n",
       "    .dataframe thead th {\n",
       "        text-align: right;\n",
       "    }\n",
       "</style>\n",
       "<table border=\"1\" class=\"dataframe\">\n",
       "  <thead>\n",
       "    <tr style=\"text-align: right;\">\n",
       "      <th></th>\n",
       "      <th>Unnamed: 0</th>\n",
       "      <th>Gender</th>\n",
       "      <th>Age</th>\n",
       "      <th>Height</th>\n",
       "      <th>Weight</th>\n",
       "      <th>family_history_with_overweight</th>\n",
       "      <th>FAVC</th>\n",
       "      <th>FCVC</th>\n",
       "      <th>NCP</th>\n",
       "      <th>CAEC</th>\n",
       "      <th>SMOKE</th>\n",
       "      <th>CH2O</th>\n",
       "      <th>SCC</th>\n",
       "      <th>FAF</th>\n",
       "      <th>TUE</th>\n",
       "      <th>CALC</th>\n",
       "      <th>MTRANS</th>\n",
       "      <th>NObeyesdad</th>\n",
       "    </tr>\n",
       "  </thead>\n",
       "  <tbody>\n",
       "    <tr>\n",
       "      <th>Unnamed: 0</th>\n",
       "      <td>1.000000</td>\n",
       "      <td>-0.070027</td>\n",
       "      <td>0.180147</td>\n",
       "      <td>0.121360</td>\n",
       "      <td>0.770995</td>\n",
       "      <td>0.442563</td>\n",
       "      <td>0.342720</td>\n",
       "      <td>0.248400</td>\n",
       "      <td>0.057888</td>\n",
       "      <td>0.373870</td>\n",
       "      <td>-0.115050</td>\n",
       "      <td>0.103626</td>\n",
       "      <td>-0.212892</td>\n",
       "      <td>-0.176982</td>\n",
       "      <td>-0.072555</td>\n",
       "      <td>-0.100234</td>\n",
       "      <td>0.030578</td>\n",
       "      <td>0.304963</td>\n",
       "    </tr>\n",
       "    <tr>\n",
       "      <th>Gender</th>\n",
       "      <td>-0.070027</td>\n",
       "      <td>1.000000</td>\n",
       "      <td>0.050929</td>\n",
       "      <td>0.626411</td>\n",
       "      <td>0.163174</td>\n",
       "      <td>0.113492</td>\n",
       "      <td>0.061220</td>\n",
       "      <td>-0.271495</td>\n",
       "      <td>0.077817</td>\n",
       "      <td>0.074564</td>\n",
       "      <td>0.045501</td>\n",
       "      <td>0.095087</td>\n",
       "      <td>-0.102435</td>\n",
       "      <td>0.189454</td>\n",
       "      <td>0.022377</td>\n",
       "      <td>0.010574</td>\n",
       "      <td>-0.139044</td>\n",
       "      <td>0.014699</td>\n",
       "    </tr>\n",
       "    <tr>\n",
       "      <th>Age</th>\n",
       "      <td>0.180147</td>\n",
       "      <td>0.050929</td>\n",
       "      <td>1.000000</td>\n",
       "      <td>-0.031551</td>\n",
       "      <td>0.199063</td>\n",
       "      <td>0.200149</td>\n",
       "      <td>0.063383</td>\n",
       "      <td>0.014309</td>\n",
       "      <td>-0.055821</td>\n",
       "      <td>0.092512</td>\n",
       "      <td>0.090627</td>\n",
       "      <td>-0.044342</td>\n",
       "      <td>-0.117702</td>\n",
       "      <td>-0.148341</td>\n",
       "      <td>-0.302599</td>\n",
       "      <td>-0.046661</td>\n",
       "      <td>-0.600092</td>\n",
       "      <td>0.237792</td>\n",
       "    </tr>\n",
       "    <tr>\n",
       "      <th>Height</th>\n",
       "      <td>0.121360</td>\n",
       "      <td>0.626411</td>\n",
       "      <td>-0.031551</td>\n",
       "      <td>1.000000</td>\n",
       "      <td>0.456591</td>\n",
       "      <td>0.231830</td>\n",
       "      <td>0.180040</td>\n",
       "      <td>-0.040820</td>\n",
       "      <td>0.227539</td>\n",
       "      <td>0.057931</td>\n",
       "      <td>0.054554</td>\n",
       "      <td>0.220572</td>\n",
       "      <td>-0.136686</td>\n",
       "      <td>0.294235</td>\n",
       "      <td>0.041486</td>\n",
       "      <td>-0.135584</td>\n",
       "      <td>-0.068412</td>\n",
       "      <td>0.039395</td>\n",
       "    </tr>\n",
       "    <tr>\n",
       "      <th>Weight</th>\n",
       "      <td>0.770995</td>\n",
       "      <td>0.163174</td>\n",
       "      <td>0.199063</td>\n",
       "      <td>0.456591</td>\n",
       "      <td>1.000000</td>\n",
       "      <td>0.492968</td>\n",
       "      <td>0.274657</td>\n",
       "      <td>0.216720</td>\n",
       "      <td>0.092092</td>\n",
       "      <td>0.300269</td>\n",
       "      <td>0.024370</td>\n",
       "      <td>0.203790</td>\n",
       "      <td>-0.205408</td>\n",
       "      <td>-0.056408</td>\n",
       "      <td>-0.079361</td>\n",
       "      <td>-0.211350</td>\n",
       "      <td>0.009837</td>\n",
       "      <td>0.388800</td>\n",
       "    </tr>\n",
       "    <tr>\n",
       "      <th>family_history_with_overweight</th>\n",
       "      <td>0.442563</td>\n",
       "      <td>0.113492</td>\n",
       "      <td>0.200149</td>\n",
       "      <td>0.231830</td>\n",
       "      <td>0.492968</td>\n",
       "      <td>1.000000</td>\n",
       "      <td>0.214329</td>\n",
       "      <td>0.033226</td>\n",
       "      <td>0.028312</td>\n",
       "      <td>0.207738</td>\n",
       "      <td>0.014885</td>\n",
       "      <td>0.168563</td>\n",
       "      <td>-0.193947</td>\n",
       "      <td>-0.062910</td>\n",
       "      <td>0.002311</td>\n",
       "      <td>0.028403</td>\n",
       "      <td>-0.092730</td>\n",
       "      <td>0.330391</td>\n",
       "    </tr>\n",
       "    <tr>\n",
       "      <th>FAVC</th>\n",
       "      <td>0.342720</td>\n",
       "      <td>0.061220</td>\n",
       "      <td>0.063383</td>\n",
       "      <td>0.180040</td>\n",
       "      <td>0.274657</td>\n",
       "      <td>0.214329</td>\n",
       "      <td>1.000000</td>\n",
       "      <td>-0.025363</td>\n",
       "      <td>-0.006366</td>\n",
       "      <td>0.147921</td>\n",
       "      <td>-0.050713</td>\n",
       "      <td>0.003008</td>\n",
       "      <td>-0.191277</td>\n",
       "      <td>-0.111124</td>\n",
       "      <td>0.071498</td>\n",
       "      <td>-0.087661</td>\n",
       "      <td>-0.069422</td>\n",
       "      <td>0.041023</td>\n",
       "    </tr>\n",
       "    <tr>\n",
       "      <th>FCVC</th>\n",
       "      <td>0.248400</td>\n",
       "      <td>-0.271495</td>\n",
       "      <td>0.014309</td>\n",
       "      <td>-0.040820</td>\n",
       "      <td>0.216720</td>\n",
       "      <td>0.033226</td>\n",
       "      <td>-0.025363</td>\n",
       "      <td>1.000000</td>\n",
       "      <td>0.034712</td>\n",
       "      <td>-0.038509</td>\n",
       "      <td>0.013774</td>\n",
       "      <td>0.081268</td>\n",
       "      <td>0.071163</td>\n",
       "      <td>0.021999</td>\n",
       "      <td>-0.104213</td>\n",
       "      <td>-0.063152</td>\n",
       "      <td>0.068970</td>\n",
       "      <td>0.025803</td>\n",
       "    </tr>\n",
       "    <tr>\n",
       "      <th>NCP</th>\n",
       "      <td>0.057888</td>\n",
       "      <td>0.077817</td>\n",
       "      <td>-0.055821</td>\n",
       "      <td>0.227539</td>\n",
       "      <td>0.092092</td>\n",
       "      <td>0.028312</td>\n",
       "      <td>-0.006366</td>\n",
       "      <td>0.034712</td>\n",
       "      <td>1.000000</td>\n",
       "      <td>-0.072304</td>\n",
       "      <td>0.005005</td>\n",
       "      <td>0.075176</td>\n",
       "      <td>-0.020452</td>\n",
       "      <td>0.127831</td>\n",
       "      <td>0.015775</td>\n",
       "      <td>-0.083026</td>\n",
       "      <td>-0.043659</td>\n",
       "      <td>-0.088256</td>\n",
       "    </tr>\n",
       "    <tr>\n",
       "      <th>CAEC</th>\n",
       "      <td>0.373870</td>\n",
       "      <td>0.074564</td>\n",
       "      <td>0.092512</td>\n",
       "      <td>0.057931</td>\n",
       "      <td>0.300269</td>\n",
       "      <td>0.207738</td>\n",
       "      <td>0.147921</td>\n",
       "      <td>-0.038509</td>\n",
       "      <td>-0.072304</td>\n",
       "      <td>1.000000</td>\n",
       "      <td>-0.054960</td>\n",
       "      <td>0.114832</td>\n",
       "      <td>-0.109393</td>\n",
       "      <td>-0.034762</td>\n",
       "      <td>-0.036706</td>\n",
       "      <td>-0.039502</td>\n",
       "      <td>-0.058158</td>\n",
       "      <td>0.314510</td>\n",
       "    </tr>\n",
       "    <tr>\n",
       "      <th>SMOKE</th>\n",
       "      <td>-0.115050</td>\n",
       "      <td>0.045501</td>\n",
       "      <td>0.090627</td>\n",
       "      <td>0.054554</td>\n",
       "      <td>0.024370</td>\n",
       "      <td>0.014885</td>\n",
       "      <td>-0.050713</td>\n",
       "      <td>0.013774</td>\n",
       "      <td>0.005005</td>\n",
       "      <td>-0.054960</td>\n",
       "      <td>1.000000</td>\n",
       "      <td>-0.031650</td>\n",
       "      <td>0.047384</td>\n",
       "      <td>0.010810</td>\n",
       "      <td>0.016488</td>\n",
       "      <td>-0.083181</td>\n",
       "      <td>-0.009995</td>\n",
       "      <td>-0.023341</td>\n",
       "    </tr>\n",
       "    <tr>\n",
       "      <th>CH2O</th>\n",
       "      <td>0.103626</td>\n",
       "      <td>0.095087</td>\n",
       "      <td>-0.044342</td>\n",
       "      <td>0.220572</td>\n",
       "      <td>0.203790</td>\n",
       "      <td>0.168563</td>\n",
       "      <td>0.003008</td>\n",
       "      <td>0.081268</td>\n",
       "      <td>0.075176</td>\n",
       "      <td>0.114832</td>\n",
       "      <td>-0.031650</td>\n",
       "      <td>1.000000</td>\n",
       "      <td>0.009328</td>\n",
       "      <td>0.165254</td>\n",
       "      <td>0.020662</td>\n",
       "      <td>-0.085459</td>\n",
       "      <td>0.040701</td>\n",
       "      <td>0.092586</td>\n",
       "    </tr>\n",
       "    <tr>\n",
       "      <th>SCC</th>\n",
       "      <td>-0.212892</td>\n",
       "      <td>-0.102435</td>\n",
       "      <td>-0.117702</td>\n",
       "      <td>-0.136686</td>\n",
       "      <td>-0.205408</td>\n",
       "      <td>-0.193947</td>\n",
       "      <td>-0.191277</td>\n",
       "      <td>0.071163</td>\n",
       "      <td>-0.020452</td>\n",
       "      <td>-0.109393</td>\n",
       "      <td>0.047384</td>\n",
       "      <td>0.009328</td>\n",
       "      <td>1.000000</td>\n",
       "      <td>0.073820</td>\n",
       "      <td>-0.012873</td>\n",
       "      <td>-0.004175</td>\n",
       "      <td>0.044381</td>\n",
       "      <td>-0.050936</td>\n",
       "    </tr>\n",
       "    <tr>\n",
       "      <th>FAF</th>\n",
       "      <td>-0.176982</td>\n",
       "      <td>0.189454</td>\n",
       "      <td>-0.148341</td>\n",
       "      <td>0.294235</td>\n",
       "      <td>-0.056408</td>\n",
       "      <td>-0.062910</td>\n",
       "      <td>-0.111124</td>\n",
       "      <td>0.021999</td>\n",
       "      <td>0.127831</td>\n",
       "      <td>-0.034762</td>\n",
       "      <td>0.010810</td>\n",
       "      <td>0.165254</td>\n",
       "      <td>0.073820</td>\n",
       "      <td>1.000000</td>\n",
       "      <td>0.058740</td>\n",
       "      <td>0.086809</td>\n",
       "      <td>0.008310</td>\n",
       "      <td>-0.135131</td>\n",
       "    </tr>\n",
       "    <tr>\n",
       "      <th>TUE</th>\n",
       "      <td>-0.072555</td>\n",
       "      <td>0.022377</td>\n",
       "      <td>-0.302599</td>\n",
       "      <td>0.041486</td>\n",
       "      <td>-0.079361</td>\n",
       "      <td>0.002311</td>\n",
       "      <td>0.071498</td>\n",
       "      <td>-0.104213</td>\n",
       "      <td>0.015775</td>\n",
       "      <td>-0.036706</td>\n",
       "      <td>0.016488</td>\n",
       "      <td>0.020662</td>\n",
       "      <td>-0.012873</td>\n",
       "      <td>0.058740</td>\n",
       "      <td>1.000000</td>\n",
       "      <td>0.041832</td>\n",
       "      <td>0.181515</td>\n",
       "      <td>-0.064874</td>\n",
       "    </tr>\n",
       "    <tr>\n",
       "      <th>CALC</th>\n",
       "      <td>-0.100234</td>\n",
       "      <td>0.010574</td>\n",
       "      <td>-0.046661</td>\n",
       "      <td>-0.135584</td>\n",
       "      <td>-0.211350</td>\n",
       "      <td>0.028403</td>\n",
       "      <td>-0.087661</td>\n",
       "      <td>-0.063152</td>\n",
       "      <td>-0.083026</td>\n",
       "      <td>-0.039502</td>\n",
       "      <td>-0.083181</td>\n",
       "      <td>-0.085459</td>\n",
       "      <td>-0.004175</td>\n",
       "      <td>0.086809</td>\n",
       "      <td>0.041832</td>\n",
       "      <td>1.000000</td>\n",
       "      <td>-0.009828</td>\n",
       "      <td>-0.132821</td>\n",
       "    </tr>\n",
       "    <tr>\n",
       "      <th>MTRANS</th>\n",
       "      <td>0.030578</td>\n",
       "      <td>-0.139044</td>\n",
       "      <td>-0.600092</td>\n",
       "      <td>-0.068412</td>\n",
       "      <td>0.009837</td>\n",
       "      <td>-0.092730</td>\n",
       "      <td>-0.069422</td>\n",
       "      <td>0.068970</td>\n",
       "      <td>-0.043659</td>\n",
       "      <td>-0.058158</td>\n",
       "      <td>-0.009995</td>\n",
       "      <td>0.040701</td>\n",
       "      <td>0.044381</td>\n",
       "      <td>0.008310</td>\n",
       "      <td>0.181515</td>\n",
       "      <td>-0.009828</td>\n",
       "      <td>1.000000</td>\n",
       "      <td>-0.047784</td>\n",
       "    </tr>\n",
       "    <tr>\n",
       "      <th>NObeyesdad</th>\n",
       "      <td>0.304963</td>\n",
       "      <td>0.014699</td>\n",
       "      <td>0.237792</td>\n",
       "      <td>0.039395</td>\n",
       "      <td>0.388800</td>\n",
       "      <td>0.330391</td>\n",
       "      <td>0.041023</td>\n",
       "      <td>0.025803</td>\n",
       "      <td>-0.088256</td>\n",
       "      <td>0.314510</td>\n",
       "      <td>-0.023341</td>\n",
       "      <td>0.092586</td>\n",
       "      <td>-0.050936</td>\n",
       "      <td>-0.135131</td>\n",
       "      <td>-0.064874</td>\n",
       "      <td>-0.132821</td>\n",
       "      <td>-0.047784</td>\n",
       "      <td>1.000000</td>\n",
       "    </tr>\n",
       "  </tbody>\n",
       "</table>\n",
       "</div>"
      ]
     },
     "execution_count": 91,
     "metadata": {},
     "output_type": "execute_result"
    }
   ],
   "execution_count": 91
  },
  {
   "metadata": {},
   "cell_type": "markdown",
   "source": "# **Checking Label Encoding for Web UI**",
   "id": "bb5705f2bb5d6d1c"
  },
  {
   "metadata": {
    "ExecuteTime": {
     "end_time": "2025-04-20T13:55:02.793170800Z",
     "start_time": "2025-04-06T16:31:15.536890Z"
    }
   },
   "cell_type": "code",
   "source": [
    "df = pd.read_csv(\"Obesity_Dataset.csv\")\n",
    "df"
   ],
   "id": "a1f526118aa1966c",
   "outputs": [
    {
     "data": {
      "text/plain": [
       "      Gender  Age  Height  Weight family_history_with_overweight FAVC  FCVC  \\\n",
       "0     Female   21    1.62   64.00                            yes   no   2.0   \n",
       "1     Female   21    1.52   56.00                            yes   no   3.0   \n",
       "2       Male   23    1.80   77.00                            yes   no   2.0   \n",
       "3       Male   27    1.80   87.00                             no   no   3.0   \n",
       "4       Male   22    1.78   89.80                             no   no   2.0   \n",
       "...      ...  ...     ...     ...                            ...  ...   ...   \n",
       "2106  Female   21    1.71  131.41                            yes  yes   3.0   \n",
       "2107  Female   22    1.75  133.74                            yes  yes   3.0   \n",
       "2108  Female   23    1.75  133.69                            yes  yes   3.0   \n",
       "2109  Female   24    1.74  133.35                            yes  yes   3.0   \n",
       "2110  Female   24    1.74  133.47                            yes  yes   3.0   \n",
       "\n",
       "      NCP       CAEC SMOKE  CH2O  SCC   FAF    TUE        CALC  \\\n",
       "0     3.0  Sometimes    no  2.00   no  0.00  1.000          no   \n",
       "1     3.0  Sometimes   yes  3.00  yes  3.00  0.000   Sometimes   \n",
       "2     3.0  Sometimes    no  2.00   no  2.00  1.000  Frequently   \n",
       "3     3.0  Sometimes    no  2.00   no  2.00  0.000  Frequently   \n",
       "4     1.0  Sometimes    no  2.00   no  0.00  0.000   Sometimes   \n",
       "...   ...        ...   ...   ...  ...   ...    ...         ...   \n",
       "2106  3.0  Sometimes    no  1.73   no  1.68  0.906   Sometimes   \n",
       "2107  3.0  Sometimes    no  2.01   no  1.34  0.599   Sometimes   \n",
       "2108  3.0  Sometimes    no  2.05   no  1.41  0.646   Sometimes   \n",
       "2109  3.0  Sometimes    no  2.85   no  1.14  0.586   Sometimes   \n",
       "2110  3.0  Sometimes    no  2.86   no  1.03  0.714   Sometimes   \n",
       "\n",
       "                     MTRANS           NObeyesdad  \n",
       "0     Public_Transportation        Normal_Weight  \n",
       "1     Public_Transportation        Normal_Weight  \n",
       "2     Public_Transportation        Normal_Weight  \n",
       "3                   Walking   Overweight_Level_I  \n",
       "4     Public_Transportation  Overweight_Level_II  \n",
       "...                     ...                  ...  \n",
       "2106  Public_Transportation     Obesity_Type_III  \n",
       "2107  Public_Transportation     Obesity_Type_III  \n",
       "2108  Public_Transportation     Obesity_Type_III  \n",
       "2109  Public_Transportation     Obesity_Type_III  \n",
       "2110  Public_Transportation     Obesity_Type_III  \n",
       "\n",
       "[2111 rows x 17 columns]"
      ],
      "text/html": [
       "<div>\n",
       "<style scoped>\n",
       "    .dataframe tbody tr th:only-of-type {\n",
       "        vertical-align: middle;\n",
       "    }\n",
       "\n",
       "    .dataframe tbody tr th {\n",
       "        vertical-align: top;\n",
       "    }\n",
       "\n",
       "    .dataframe thead th {\n",
       "        text-align: right;\n",
       "    }\n",
       "</style>\n",
       "<table border=\"1\" class=\"dataframe\">\n",
       "  <thead>\n",
       "    <tr style=\"text-align: right;\">\n",
       "      <th></th>\n",
       "      <th>Gender</th>\n",
       "      <th>Age</th>\n",
       "      <th>Height</th>\n",
       "      <th>Weight</th>\n",
       "      <th>family_history_with_overweight</th>\n",
       "      <th>FAVC</th>\n",
       "      <th>FCVC</th>\n",
       "      <th>NCP</th>\n",
       "      <th>CAEC</th>\n",
       "      <th>SMOKE</th>\n",
       "      <th>CH2O</th>\n",
       "      <th>SCC</th>\n",
       "      <th>FAF</th>\n",
       "      <th>TUE</th>\n",
       "      <th>CALC</th>\n",
       "      <th>MTRANS</th>\n",
       "      <th>NObeyesdad</th>\n",
       "    </tr>\n",
       "  </thead>\n",
       "  <tbody>\n",
       "    <tr>\n",
       "      <th>0</th>\n",
       "      <td>Female</td>\n",
       "      <td>21</td>\n",
       "      <td>1.62</td>\n",
       "      <td>64.00</td>\n",
       "      <td>yes</td>\n",
       "      <td>no</td>\n",
       "      <td>2.0</td>\n",
       "      <td>3.0</td>\n",
       "      <td>Sometimes</td>\n",
       "      <td>no</td>\n",
       "      <td>2.00</td>\n",
       "      <td>no</td>\n",
       "      <td>0.00</td>\n",
       "      <td>1.000</td>\n",
       "      <td>no</td>\n",
       "      <td>Public_Transportation</td>\n",
       "      <td>Normal_Weight</td>\n",
       "    </tr>\n",
       "    <tr>\n",
       "      <th>1</th>\n",
       "      <td>Female</td>\n",
       "      <td>21</td>\n",
       "      <td>1.52</td>\n",
       "      <td>56.00</td>\n",
       "      <td>yes</td>\n",
       "      <td>no</td>\n",
       "      <td>3.0</td>\n",
       "      <td>3.0</td>\n",
       "      <td>Sometimes</td>\n",
       "      <td>yes</td>\n",
       "      <td>3.00</td>\n",
       "      <td>yes</td>\n",
       "      <td>3.00</td>\n",
       "      <td>0.000</td>\n",
       "      <td>Sometimes</td>\n",
       "      <td>Public_Transportation</td>\n",
       "      <td>Normal_Weight</td>\n",
       "    </tr>\n",
       "    <tr>\n",
       "      <th>2</th>\n",
       "      <td>Male</td>\n",
       "      <td>23</td>\n",
       "      <td>1.80</td>\n",
       "      <td>77.00</td>\n",
       "      <td>yes</td>\n",
       "      <td>no</td>\n",
       "      <td>2.0</td>\n",
       "      <td>3.0</td>\n",
       "      <td>Sometimes</td>\n",
       "      <td>no</td>\n",
       "      <td>2.00</td>\n",
       "      <td>no</td>\n",
       "      <td>2.00</td>\n",
       "      <td>1.000</td>\n",
       "      <td>Frequently</td>\n",
       "      <td>Public_Transportation</td>\n",
       "      <td>Normal_Weight</td>\n",
       "    </tr>\n",
       "    <tr>\n",
       "      <th>3</th>\n",
       "      <td>Male</td>\n",
       "      <td>27</td>\n",
       "      <td>1.80</td>\n",
       "      <td>87.00</td>\n",
       "      <td>no</td>\n",
       "      <td>no</td>\n",
       "      <td>3.0</td>\n",
       "      <td>3.0</td>\n",
       "      <td>Sometimes</td>\n",
       "      <td>no</td>\n",
       "      <td>2.00</td>\n",
       "      <td>no</td>\n",
       "      <td>2.00</td>\n",
       "      <td>0.000</td>\n",
       "      <td>Frequently</td>\n",
       "      <td>Walking</td>\n",
       "      <td>Overweight_Level_I</td>\n",
       "    </tr>\n",
       "    <tr>\n",
       "      <th>4</th>\n",
       "      <td>Male</td>\n",
       "      <td>22</td>\n",
       "      <td>1.78</td>\n",
       "      <td>89.80</td>\n",
       "      <td>no</td>\n",
       "      <td>no</td>\n",
       "      <td>2.0</td>\n",
       "      <td>1.0</td>\n",
       "      <td>Sometimes</td>\n",
       "      <td>no</td>\n",
       "      <td>2.00</td>\n",
       "      <td>no</td>\n",
       "      <td>0.00</td>\n",
       "      <td>0.000</td>\n",
       "      <td>Sometimes</td>\n",
       "      <td>Public_Transportation</td>\n",
       "      <td>Overweight_Level_II</td>\n",
       "    </tr>\n",
       "    <tr>\n",
       "      <th>...</th>\n",
       "      <td>...</td>\n",
       "      <td>...</td>\n",
       "      <td>...</td>\n",
       "      <td>...</td>\n",
       "      <td>...</td>\n",
       "      <td>...</td>\n",
       "      <td>...</td>\n",
       "      <td>...</td>\n",
       "      <td>...</td>\n",
       "      <td>...</td>\n",
       "      <td>...</td>\n",
       "      <td>...</td>\n",
       "      <td>...</td>\n",
       "      <td>...</td>\n",
       "      <td>...</td>\n",
       "      <td>...</td>\n",
       "      <td>...</td>\n",
       "    </tr>\n",
       "    <tr>\n",
       "      <th>2106</th>\n",
       "      <td>Female</td>\n",
       "      <td>21</td>\n",
       "      <td>1.71</td>\n",
       "      <td>131.41</td>\n",
       "      <td>yes</td>\n",
       "      <td>yes</td>\n",
       "      <td>3.0</td>\n",
       "      <td>3.0</td>\n",
       "      <td>Sometimes</td>\n",
       "      <td>no</td>\n",
       "      <td>1.73</td>\n",
       "      <td>no</td>\n",
       "      <td>1.68</td>\n",
       "      <td>0.906</td>\n",
       "      <td>Sometimes</td>\n",
       "      <td>Public_Transportation</td>\n",
       "      <td>Obesity_Type_III</td>\n",
       "    </tr>\n",
       "    <tr>\n",
       "      <th>2107</th>\n",
       "      <td>Female</td>\n",
       "      <td>22</td>\n",
       "      <td>1.75</td>\n",
       "      <td>133.74</td>\n",
       "      <td>yes</td>\n",
       "      <td>yes</td>\n",
       "      <td>3.0</td>\n",
       "      <td>3.0</td>\n",
       "      <td>Sometimes</td>\n",
       "      <td>no</td>\n",
       "      <td>2.01</td>\n",
       "      <td>no</td>\n",
       "      <td>1.34</td>\n",
       "      <td>0.599</td>\n",
       "      <td>Sometimes</td>\n",
       "      <td>Public_Transportation</td>\n",
       "      <td>Obesity_Type_III</td>\n",
       "    </tr>\n",
       "    <tr>\n",
       "      <th>2108</th>\n",
       "      <td>Female</td>\n",
       "      <td>23</td>\n",
       "      <td>1.75</td>\n",
       "      <td>133.69</td>\n",
       "      <td>yes</td>\n",
       "      <td>yes</td>\n",
       "      <td>3.0</td>\n",
       "      <td>3.0</td>\n",
       "      <td>Sometimes</td>\n",
       "      <td>no</td>\n",
       "      <td>2.05</td>\n",
       "      <td>no</td>\n",
       "      <td>1.41</td>\n",
       "      <td>0.646</td>\n",
       "      <td>Sometimes</td>\n",
       "      <td>Public_Transportation</td>\n",
       "      <td>Obesity_Type_III</td>\n",
       "    </tr>\n",
       "    <tr>\n",
       "      <th>2109</th>\n",
       "      <td>Female</td>\n",
       "      <td>24</td>\n",
       "      <td>1.74</td>\n",
       "      <td>133.35</td>\n",
       "      <td>yes</td>\n",
       "      <td>yes</td>\n",
       "      <td>3.0</td>\n",
       "      <td>3.0</td>\n",
       "      <td>Sometimes</td>\n",
       "      <td>no</td>\n",
       "      <td>2.85</td>\n",
       "      <td>no</td>\n",
       "      <td>1.14</td>\n",
       "      <td>0.586</td>\n",
       "      <td>Sometimes</td>\n",
       "      <td>Public_Transportation</td>\n",
       "      <td>Obesity_Type_III</td>\n",
       "    </tr>\n",
       "    <tr>\n",
       "      <th>2110</th>\n",
       "      <td>Female</td>\n",
       "      <td>24</td>\n",
       "      <td>1.74</td>\n",
       "      <td>133.47</td>\n",
       "      <td>yes</td>\n",
       "      <td>yes</td>\n",
       "      <td>3.0</td>\n",
       "      <td>3.0</td>\n",
       "      <td>Sometimes</td>\n",
       "      <td>no</td>\n",
       "      <td>2.86</td>\n",
       "      <td>no</td>\n",
       "      <td>1.03</td>\n",
       "      <td>0.714</td>\n",
       "      <td>Sometimes</td>\n",
       "      <td>Public_Transportation</td>\n",
       "      <td>Obesity_Type_III</td>\n",
       "    </tr>\n",
       "  </tbody>\n",
       "</table>\n",
       "<p>2111 rows × 17 columns</p>\n",
       "</div>"
      ]
     },
     "execution_count": 6,
     "metadata": {},
     "output_type": "execute_result"
    }
   ],
   "execution_count": 6
  },
  {
   "metadata": {
    "ExecuteTime": {
     "end_time": "2025-04-20T13:55:02.793671300Z",
     "start_time": "2025-04-01T19:57:17.000375Z"
    }
   },
   "cell_type": "code",
   "source": "df[\"CAEC\"].unique()",
   "id": "f02c3f2622efe930",
   "outputs": [
    {
     "data": {
      "text/plain": [
       "array(['Sometimes', 'Frequently', 'Always', 'no'], dtype=object)"
      ]
     },
     "execution_count": 34,
     "metadata": {},
     "output_type": "execute_result"
    }
   ],
   "execution_count": 34
  },
  {
   "metadata": {
    "ExecuteTime": {
     "end_time": "2025-04-20T13:55:02.794169600Z",
     "start_time": "2025-04-01T20:44:08.732129Z"
    }
   },
   "cell_type": "code",
   "source": "df.CALC.unique()",
   "id": "8ecab10281ef2fbf",
   "outputs": [
    {
     "data": {
      "text/plain": [
       "array(['no', 'Sometimes', 'Frequently', 'Always'], dtype=object)"
      ]
     },
     "execution_count": 39,
     "metadata": {},
     "output_type": "execute_result"
    }
   ],
   "execution_count": 39
  },
  {
   "metadata": {
    "ExecuteTime": {
     "end_time": "2025-04-20T13:55:02.794169600Z",
     "start_time": "2025-04-04T19:36:03.279921Z"
    }
   },
   "cell_type": "code",
   "source": "df.MTRANS.unique()",
   "id": "ebadc9b0f7a9a665",
   "outputs": [
    {
     "data": {
      "text/plain": [
       "array(['Public_Transportation', 'Walking', 'Automobile', 'Motorbike',\n",
       "       'Bike'], dtype=object)"
      ]
     },
     "execution_count": 4,
     "metadata": {},
     "output_type": "execute_result"
    }
   ],
   "execution_count": 4
  },
  {
   "metadata": {
    "ExecuteTime": {
     "end_time": "2025-04-20T13:55:02.794670200Z",
     "start_time": "2025-04-06T16:31:18.988081Z"
    }
   },
   "cell_type": "code",
   "source": "df.NObeyesdad.unique()",
   "id": "7743caef355275c9",
   "outputs": [
    {
     "data": {
      "text/plain": [
       "array(['Normal_Weight', 'Overweight_Level_I', 'Overweight_Level_II',\n",
       "       'Obesity_Type_I', 'Insufficient_Weight', 'Obesity_Type_II',\n",
       "       'Obesity_Type_III'], dtype=object)"
      ]
     },
     "execution_count": 7,
     "metadata": {},
     "output_type": "execute_result"
    }
   ],
   "execution_count": 7
  },
  {
   "metadata": {
    "ExecuteTime": {
     "end_time": "2025-04-20T14:02:23.867704Z",
     "start_time": "2025-04-20T14:02:23.854876Z"
    }
   },
   "cell_type": "code",
   "source": [
    "df = pd.read_csv(\"Obesity_DataSet_Edited.csv\")\n",
    "df"
   ],
   "id": "d55f0b99bd7d8b69",
   "outputs": [
    {
     "data": {
      "text/plain": [
       "      Gender  Age  Height  Weight  family_history_with_overweight  FAVC  FCVC  \\\n",
       "0          0   21    1.62   64.00                               1     0   2.0   \n",
       "1          0   21    1.52   56.00                               1     0   3.0   \n",
       "2          1   23    1.80   77.00                               1     0   2.0   \n",
       "3          1   27    1.80   87.00                               0     0   3.0   \n",
       "4          1   22    1.78   89.80                               0     0   2.0   \n",
       "...      ...  ...     ...     ...                             ...   ...   ...   \n",
       "2082       0   21    1.71  131.41                               1     1   3.0   \n",
       "2083       0   22    1.75  133.74                               1     1   3.0   \n",
       "2084       0   23    1.75  133.69                               1     1   3.0   \n",
       "2085       0   24    1.74  133.35                               1     1   3.0   \n",
       "2086       0   24    1.74  133.47                               1     1   3.0   \n",
       "\n",
       "      NCP  CAEC  SMOKE  CH2O  SCC   FAF    TUE  CALC  MTRANS  NObeyesdad  \n",
       "0     3.0     2      0  2.00    0  0.00  1.000     3       3           1  \n",
       "1     3.0     2      1  3.00    1  3.00  0.000     2       3           1  \n",
       "2     3.0     2      0  2.00    0  2.00  1.000     1       3           1  \n",
       "3     3.0     2      0  2.00    0  2.00  0.000     1       4           5  \n",
       "4     1.0     2      0  2.00    0  0.00  0.000     2       3           6  \n",
       "...   ...   ...    ...   ...  ...   ...    ...   ...     ...         ...  \n",
       "2082  3.0     2      0  1.73    0  1.68  0.906     2       3           4  \n",
       "2083  3.0     2      0  2.01    0  1.34  0.599     2       3           4  \n",
       "2084  3.0     2      0  2.05    0  1.41  0.646     2       3           4  \n",
       "2085  3.0     2      0  2.85    0  1.14  0.586     2       3           4  \n",
       "2086  3.0     2      0  2.86    0  1.03  0.714     2       3           4  \n",
       "\n",
       "[2087 rows x 17 columns]"
      ],
      "text/html": [
       "<div>\n",
       "<style scoped>\n",
       "    .dataframe tbody tr th:only-of-type {\n",
       "        vertical-align: middle;\n",
       "    }\n",
       "\n",
       "    .dataframe tbody tr th {\n",
       "        vertical-align: top;\n",
       "    }\n",
       "\n",
       "    .dataframe thead th {\n",
       "        text-align: right;\n",
       "    }\n",
       "</style>\n",
       "<table border=\"1\" class=\"dataframe\">\n",
       "  <thead>\n",
       "    <tr style=\"text-align: right;\">\n",
       "      <th></th>\n",
       "      <th>Gender</th>\n",
       "      <th>Age</th>\n",
       "      <th>Height</th>\n",
       "      <th>Weight</th>\n",
       "      <th>family_history_with_overweight</th>\n",
       "      <th>FAVC</th>\n",
       "      <th>FCVC</th>\n",
       "      <th>NCP</th>\n",
       "      <th>CAEC</th>\n",
       "      <th>SMOKE</th>\n",
       "      <th>CH2O</th>\n",
       "      <th>SCC</th>\n",
       "      <th>FAF</th>\n",
       "      <th>TUE</th>\n",
       "      <th>CALC</th>\n",
       "      <th>MTRANS</th>\n",
       "      <th>NObeyesdad</th>\n",
       "    </tr>\n",
       "  </thead>\n",
       "  <tbody>\n",
       "    <tr>\n",
       "      <th>0</th>\n",
       "      <td>0</td>\n",
       "      <td>21</td>\n",
       "      <td>1.62</td>\n",
       "      <td>64.00</td>\n",
       "      <td>1</td>\n",
       "      <td>0</td>\n",
       "      <td>2.0</td>\n",
       "      <td>3.0</td>\n",
       "      <td>2</td>\n",
       "      <td>0</td>\n",
       "      <td>2.00</td>\n",
       "      <td>0</td>\n",
       "      <td>0.00</td>\n",
       "      <td>1.000</td>\n",
       "      <td>3</td>\n",
       "      <td>3</td>\n",
       "      <td>1</td>\n",
       "    </tr>\n",
       "    <tr>\n",
       "      <th>1</th>\n",
       "      <td>0</td>\n",
       "      <td>21</td>\n",
       "      <td>1.52</td>\n",
       "      <td>56.00</td>\n",
       "      <td>1</td>\n",
       "      <td>0</td>\n",
       "      <td>3.0</td>\n",
       "      <td>3.0</td>\n",
       "      <td>2</td>\n",
       "      <td>1</td>\n",
       "      <td>3.00</td>\n",
       "      <td>1</td>\n",
       "      <td>3.00</td>\n",
       "      <td>0.000</td>\n",
       "      <td>2</td>\n",
       "      <td>3</td>\n",
       "      <td>1</td>\n",
       "    </tr>\n",
       "    <tr>\n",
       "      <th>2</th>\n",
       "      <td>1</td>\n",
       "      <td>23</td>\n",
       "      <td>1.80</td>\n",
       "      <td>77.00</td>\n",
       "      <td>1</td>\n",
       "      <td>0</td>\n",
       "      <td>2.0</td>\n",
       "      <td>3.0</td>\n",
       "      <td>2</td>\n",
       "      <td>0</td>\n",
       "      <td>2.00</td>\n",
       "      <td>0</td>\n",
       "      <td>2.00</td>\n",
       "      <td>1.000</td>\n",
       "      <td>1</td>\n",
       "      <td>3</td>\n",
       "      <td>1</td>\n",
       "    </tr>\n",
       "    <tr>\n",
       "      <th>3</th>\n",
       "      <td>1</td>\n",
       "      <td>27</td>\n",
       "      <td>1.80</td>\n",
       "      <td>87.00</td>\n",
       "      <td>0</td>\n",
       "      <td>0</td>\n",
       "      <td>3.0</td>\n",
       "      <td>3.0</td>\n",
       "      <td>2</td>\n",
       "      <td>0</td>\n",
       "      <td>2.00</td>\n",
       "      <td>0</td>\n",
       "      <td>2.00</td>\n",
       "      <td>0.000</td>\n",
       "      <td>1</td>\n",
       "      <td>4</td>\n",
       "      <td>5</td>\n",
       "    </tr>\n",
       "    <tr>\n",
       "      <th>4</th>\n",
       "      <td>1</td>\n",
       "      <td>22</td>\n",
       "      <td>1.78</td>\n",
       "      <td>89.80</td>\n",
       "      <td>0</td>\n",
       "      <td>0</td>\n",
       "      <td>2.0</td>\n",
       "      <td>1.0</td>\n",
       "      <td>2</td>\n",
       "      <td>0</td>\n",
       "      <td>2.00</td>\n",
       "      <td>0</td>\n",
       "      <td>0.00</td>\n",
       "      <td>0.000</td>\n",
       "      <td>2</td>\n",
       "      <td>3</td>\n",
       "      <td>6</td>\n",
       "    </tr>\n",
       "    <tr>\n",
       "      <th>...</th>\n",
       "      <td>...</td>\n",
       "      <td>...</td>\n",
       "      <td>...</td>\n",
       "      <td>...</td>\n",
       "      <td>...</td>\n",
       "      <td>...</td>\n",
       "      <td>...</td>\n",
       "      <td>...</td>\n",
       "      <td>...</td>\n",
       "      <td>...</td>\n",
       "      <td>...</td>\n",
       "      <td>...</td>\n",
       "      <td>...</td>\n",
       "      <td>...</td>\n",
       "      <td>...</td>\n",
       "      <td>...</td>\n",
       "      <td>...</td>\n",
       "    </tr>\n",
       "    <tr>\n",
       "      <th>2082</th>\n",
       "      <td>0</td>\n",
       "      <td>21</td>\n",
       "      <td>1.71</td>\n",
       "      <td>131.41</td>\n",
       "      <td>1</td>\n",
       "      <td>1</td>\n",
       "      <td>3.0</td>\n",
       "      <td>3.0</td>\n",
       "      <td>2</td>\n",
       "      <td>0</td>\n",
       "      <td>1.73</td>\n",
       "      <td>0</td>\n",
       "      <td>1.68</td>\n",
       "      <td>0.906</td>\n",
       "      <td>2</td>\n",
       "      <td>3</td>\n",
       "      <td>4</td>\n",
       "    </tr>\n",
       "    <tr>\n",
       "      <th>2083</th>\n",
       "      <td>0</td>\n",
       "      <td>22</td>\n",
       "      <td>1.75</td>\n",
       "      <td>133.74</td>\n",
       "      <td>1</td>\n",
       "      <td>1</td>\n",
       "      <td>3.0</td>\n",
       "      <td>3.0</td>\n",
       "      <td>2</td>\n",
       "      <td>0</td>\n",
       "      <td>2.01</td>\n",
       "      <td>0</td>\n",
       "      <td>1.34</td>\n",
       "      <td>0.599</td>\n",
       "      <td>2</td>\n",
       "      <td>3</td>\n",
       "      <td>4</td>\n",
       "    </tr>\n",
       "    <tr>\n",
       "      <th>2084</th>\n",
       "      <td>0</td>\n",
       "      <td>23</td>\n",
       "      <td>1.75</td>\n",
       "      <td>133.69</td>\n",
       "      <td>1</td>\n",
       "      <td>1</td>\n",
       "      <td>3.0</td>\n",
       "      <td>3.0</td>\n",
       "      <td>2</td>\n",
       "      <td>0</td>\n",
       "      <td>2.05</td>\n",
       "      <td>0</td>\n",
       "      <td>1.41</td>\n",
       "      <td>0.646</td>\n",
       "      <td>2</td>\n",
       "      <td>3</td>\n",
       "      <td>4</td>\n",
       "    </tr>\n",
       "    <tr>\n",
       "      <th>2085</th>\n",
       "      <td>0</td>\n",
       "      <td>24</td>\n",
       "      <td>1.74</td>\n",
       "      <td>133.35</td>\n",
       "      <td>1</td>\n",
       "      <td>1</td>\n",
       "      <td>3.0</td>\n",
       "      <td>3.0</td>\n",
       "      <td>2</td>\n",
       "      <td>0</td>\n",
       "      <td>2.85</td>\n",
       "      <td>0</td>\n",
       "      <td>1.14</td>\n",
       "      <td>0.586</td>\n",
       "      <td>2</td>\n",
       "      <td>3</td>\n",
       "      <td>4</td>\n",
       "    </tr>\n",
       "    <tr>\n",
       "      <th>2086</th>\n",
       "      <td>0</td>\n",
       "      <td>24</td>\n",
       "      <td>1.74</td>\n",
       "      <td>133.47</td>\n",
       "      <td>1</td>\n",
       "      <td>1</td>\n",
       "      <td>3.0</td>\n",
       "      <td>3.0</td>\n",
       "      <td>2</td>\n",
       "      <td>0</td>\n",
       "      <td>2.86</td>\n",
       "      <td>0</td>\n",
       "      <td>1.03</td>\n",
       "      <td>0.714</td>\n",
       "      <td>2</td>\n",
       "      <td>3</td>\n",
       "      <td>4</td>\n",
       "    </tr>\n",
       "  </tbody>\n",
       "</table>\n",
       "<p>2087 rows × 17 columns</p>\n",
       "</div>"
      ]
     },
     "execution_count": 139,
     "metadata": {},
     "output_type": "execute_result"
    }
   ],
   "execution_count": 139
  },
  {
   "metadata": {
    "ExecuteTime": {
     "end_time": "2025-04-20T13:55:02.795170Z",
     "start_time": "2025-04-06T16:30:49.135908Z"
    }
   },
   "cell_type": "code",
   "source": "df.NObeyesdad.unique()",
   "id": "41d802920213fb56",
   "outputs": [
    {
     "data": {
      "text/plain": [
       "array([1, 5, 6, 2, 0, 3, 4])"
      ]
     },
     "execution_count": 5,
     "metadata": {},
     "output_type": "execute_result"
    }
   ],
   "execution_count": 5
  },
  {
   "metadata": {
    "ExecuteTime": {
     "end_time": "2025-04-20T13:55:02.795170Z",
     "start_time": "2025-04-01T19:57:51.385721Z"
    }
   },
   "cell_type": "code",
   "source": "df.CAEC.unique()",
   "id": "29ea73983c1a5b07",
   "outputs": [
    {
     "data": {
      "text/plain": [
       "array([2, 1, 0, 3])"
      ]
     },
     "execution_count": 37,
     "metadata": {},
     "output_type": "execute_result"
    }
   ],
   "execution_count": 37
  },
  {
   "metadata": {
    "ExecuteTime": {
     "end_time": "2025-04-20T13:55:02.795170Z",
     "start_time": "2025-04-01T20:44:27.967912Z"
    }
   },
   "cell_type": "code",
   "source": "df.CALC.unique()",
   "id": "947961fd1e19f768",
   "outputs": [
    {
     "data": {
      "text/plain": [
       "array([3, 2, 1, 0])"
      ]
     },
     "execution_count": 41,
     "metadata": {},
     "output_type": "execute_result"
    }
   ],
   "execution_count": 41
  },
  {
   "metadata": {
    "ExecuteTime": {
     "end_time": "2025-04-20T13:55:02.795669800Z",
     "start_time": "2025-04-04T19:36:09.834396Z"
    }
   },
   "cell_type": "code",
   "source": "df.MTRANS.unique()",
   "id": "b19d49c6fcc664c",
   "outputs": [
    {
     "data": {
      "text/plain": [
       "array([3, 4, 0, 2, 1])"
      ]
     },
     "execution_count": 6,
     "metadata": {},
     "output_type": "execute_result"
    }
   ],
   "execution_count": 6
  },
  {
   "metadata": {
    "ExecuteTime": {
     "end_time": "2025-04-20T13:55:02.795669800Z",
     "start_time": "2025-04-01T10:43:08.215644Z"
    }
   },
   "cell_type": "code",
   "source": "df.dtypes",
   "id": "fe7162e591b7e609",
   "outputs": [
    {
     "data": {
      "text/plain": [
       "Unnamed: 0                          int64\n",
       "Gender                              int64\n",
       "Age                                 int64\n",
       "Height                            float64\n",
       "Weight                            float64\n",
       "family_history_with_overweight      int64\n",
       "FAVC                                int64\n",
       "FCVC                              float64\n",
       "NCP                               float64\n",
       "CAEC                                int64\n",
       "SMOKE                               int64\n",
       "CH2O                              float64\n",
       "SCC                                 int64\n",
       "FAF                               float64\n",
       "TUE                               float64\n",
       "CALC                                int64\n",
       "MTRANS                              int64\n",
       "NObeyesdad                          int64\n",
       "dtype: object"
      ]
     },
     "execution_count": 34,
     "metadata": {},
     "output_type": "execute_result"
    }
   ],
   "execution_count": 34
  }
 ],
 "metadata": {
  "kernelspec": {
   "display_name": "Python 3",
   "language": "python",
   "name": "python3"
  },
  "language_info": {
   "codemirror_mode": {
    "name": "ipython",
    "version": 2
   },
   "file_extension": ".py",
   "mimetype": "text/x-python",
   "name": "python",
   "nbconvert_exporter": "python",
   "pygments_lexer": "ipython2",
   "version": "2.7.6"
  }
 },
 "nbformat": 4,
 "nbformat_minor": 5
}
